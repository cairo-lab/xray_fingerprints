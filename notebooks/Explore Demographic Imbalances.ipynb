{
 "cells": [
  {
   "cell_type": "markdown",
   "id": "c1126205-0608-4abc-a7c6-8f7b1c463008",
   "metadata": {},
   "source": [
    "# Imports"
   ]
  },
  {
   "cell_type": "code",
   "execution_count": 21,
   "id": "185ba821-750e-44d0-a584-3a63438c2f9e",
   "metadata": {
    "execution": {
     "iopub.execute_input": "2024-01-30T22:08:12.138507Z",
     "iopub.status.busy": "2024-01-30T22:08:12.137629Z",
     "iopub.status.idle": "2024-01-30T22:08:12.142854Z",
     "shell.execute_reply": "2024-01-30T22:08:12.141843Z",
     "shell.execute_reply.started": "2024-01-30T22:08:12.138468Z"
    },
    "tags": []
   },
   "outputs": [],
   "source": [
    "import pandas as pd\n",
    "from pathlib import Path\n",
    "\n",
    "import OAI_Utilities as utils # ln -s ../../OAI/notebooks/OAI_Utilities.py"
   ]
  },
  {
   "cell_type": "markdown",
   "id": "4d467c59-e464-43f4-b225-1edf04f3fb96",
   "metadata": {},
   "source": [
    "# Constants"
   ]
  },
  {
   "cell_type": "code",
   "execution_count": 22,
   "id": "d08db5f4-6ab6-45c5-90aa-c474dea2b637",
   "metadata": {
    "execution": {
     "iopub.execute_input": "2024-01-30T22:08:12.928026Z",
     "iopub.status.busy": "2024-01-30T22:08:12.927608Z",
     "iopub.status.idle": "2024-01-30T22:08:12.932599Z",
     "shell.execute_reply": "2024-01-30T22:08:12.931818Z",
     "shell.execute_reply.started": "2024-01-30T22:08:12.927990Z"
    },
    "tags": []
   },
   "outputs": [],
   "source": [
    "OAI_DATA_PATH = Path.home() / 'code/OAI/notebooks/data/'\n",
    "idxSlc = pd.IndexSlice\n",
    "\n",
    "VARIABLES_OF_INTEREST = [\n",
    "    \"(0008, 0070) Manufacturer\",\n",
    "    \"(0008, 1090) Manufacturer's Model Name\",\n",
    "    \"(0012, 0030) Clinical Trial Site ID\",\n",
    "    \"(0018, 1000) Device Serial Number\",\n",
    "]"
   ]
  },
  {
   "cell_type": "markdown",
   "id": "562404a9-b260-419c-9ac4-cb23cc224470",
   "metadata": {},
   "source": [
    "# Import data"
   ]
  },
  {
   "cell_type": "code",
   "execution_count": 23,
   "id": "fcee6e54-558e-4052-8a18-a871820963a1",
   "metadata": {
    "execution": {
     "iopub.execute_input": "2024-01-30T22:08:13.896954Z",
     "iopub.status.busy": "2024-01-30T22:08:13.896241Z",
     "iopub.status.idle": "2024-01-30T22:08:17.443728Z",
     "shell.execute_reply": "2024-01-30T22:08:17.443077Z",
     "shell.execute_reply.started": "2024-01-30T22:08:13.896920Z"
    },
    "tags": []
   },
   "outputs": [
    {
     "name": "stderr",
     "output_type": "stream",
     "text": [
      "/Users/brandong.hill/code/xray_fingerprints/notebooks/OAI_Utilities.py:453: PerformanceWarning: indexing past lexsort depth may impact performance.\n",
      "  if idx and isinstance(df[col][idx], np.ndarray):\n"
     ]
    }
   ],
   "source": [
    "# Read in the dataframes for analysis \n",
    "metadata_df = utils.read_parquet(OAI_DATA_PATH / 'dicom_metadata_df.parquet')\n",
    "allclinical_df = utils.read_parquet(OAI_DATA_PATH / 'allclinical_values.parquet')\n",
    "\n",
    "xray_df = utils.read_parquet(OAI_DATA_PATH / 'xray_values.parquet')\n",
    "xray_df = xray_df[xray_df['XRBARCD'] != '']\n",
    "xray_df = xray_df[xray_df['EXAMTP'] == 'Bilateral PA Fixed Flexion Knee'] # Lets only consider xrays that we might use in the deep learning\n",
    "\n",
    "enrollees_df = utils.read_parquet(OAI_DATA_PATH / 'enrollees_values.parquet')"
   ]
  },
  {
   "cell_type": "markdown",
   "id": "04a71bcf-bfb7-42a6-8b1c-5fec0ac0dd30",
   "metadata": {},
   "source": [
    "# Create unified dataframe"
   ]
  },
  {
   "cell_type": "code",
   "execution_count": 4,
   "id": "77a5e374-8b03-47fa-a90e-73dd2019767f",
   "metadata": {
    "execution": {
     "iopub.execute_input": "2024-01-30T21:25:21.445631Z",
     "iopub.status.busy": "2024-01-30T21:25:21.445359Z",
     "iopub.status.idle": "2024-01-30T21:25:21.566872Z",
     "shell.execute_reply": "2024-01-30T21:25:21.566154Z",
     "shell.execute_reply.started": "2024-01-30T21:25:21.445610Z"
    },
    "tags": []
   },
   "outputs": [
    {
     "name": "stdout",
     "output_type": "stream",
     "text": [
      "26,522\n",
      "26,522\n"
     ]
    }
   ],
   "source": [
    "# Map of patient IDs to barcodes, also drop 4 extraneous digits in barcode\n",
    "# Result= ID: XRBARCD\n",
    "barcode_site_id_df = pd.DataFrame(xray_df['XRBARCD'].str[4:].reset_index('Visit'))\n",
    "print('{:,}'.format(len(barcode_site_id_df)))\n",
    "\n",
    "# Result= XRBARCD: ID, SITE, RACE, Visit, INCOME, INCOME2, 'COMORB', '(0008, 1090) Manufacturer's Model Name', '(0012, 0030) Clinical Trial Site ID', ....\n",
    "barcode_site_id_df = barcode_site_id_df.join(enrollees_df[['SITE', 'RACE']], how='left')  # Add hospital site and patient race\n",
    "barcode_site_id_df = barcode_site_id_df.join(allclinical_df.loc[idxSlc[:, 'V00'], :][['INCOME', 'INCOME2', 'COMORB']].reset_index('Visit', drop=True), on='ID', how='left') # Add starting income and comborbidities\n",
    "barcode_site_id_df = barcode_site_id_df.reset_index('ID').set_index('XRBARCD')  # Switch to index by barcode\n",
    "barcode_site_id_df = barcode_site_id_df.join(metadata_df[VARIABLES_OF_INTEREST]) # Add Mfg model, and Clinical Site ID (xray machine location)\n",
    "print('{:,}'.format(len(barcode_site_id_df)))  # Sanity check, the joins shouldn't be increase the number of entries"
   ]
  },
  {
   "cell_type": "markdown",
   "id": "3b90f2ca-2d60-4d57-bc71-5b1a192bf0e7",
   "metadata": {},
   "source": [
    "# Start to look at imbalance across sites"
   ]
  },
  {
   "cell_type": "code",
   "execution_count": 5,
   "id": "e72db63d-dba9-4ad5-8c58-180a64bf1a70",
   "metadata": {
    "execution": {
     "iopub.execute_input": "2024-01-30T21:25:21.568583Z",
     "iopub.status.busy": "2024-01-30T21:25:21.567952Z",
     "iopub.status.idle": "2024-01-30T21:25:21.588508Z",
     "shell.execute_reply": "2024-01-30T21:25:21.587659Z",
     "shell.execute_reply.started": "2024-01-30T21:25:21.568552Z"
    },
    "tags": []
   },
   "outputs": [
    {
     "data": {
      "text/plain": [
       "SITE  (0008, 1090) Manufacturer's Model Name\n",
       "A     ddR Modulaire System                      2693\n",
       "      ddR Formula System                        1233\n",
       "      DigitalDiagnost                             64\n",
       "      ddR Multi System                            29\n",
       "      ADC_51xx                                     4\n",
       "      ddR Combi System                             4\n",
       "      \"Definium 5000\"                              2\n",
       "      ADC_5146                                     2\n",
       "      digital DIAGNOST                             1\n",
       "      Lumisys                                      1\n",
       "      \"Thunder Platform\"                           1\n",
       "B     Lumisys                                   1785\n",
       "                                                 102\n",
       "C     ADC_5146                                  3936\n",
       "      \"Definium 5000\"                           3468\n",
       "      \"Thunder Platform\"                         415\n",
       "D     ADC_51xx                                  4727\n",
       "      Discovery XR656                            406\n",
       "E                                                802\n",
       "      ddR Formula System                         402\n",
       "      SIEMENS FD-X                               324\n",
       "      Lumisys                                    180\n",
       "      DigitalDiagnost                             29\n",
       "      digital DIAGNOST                             1\n",
       "      FLUOROSPOT_COMPACT                           1\n",
       "dtype: int64"
      ]
     },
     "execution_count": 5,
     "metadata": {},
     "output_type": "execute_result"
    }
   ],
   "source": [
    "# Is the mfg model a tell as to which site?\n",
    "tmp = barcode_site_id_df[['SITE', \"(0008, 1090) Manufacturer's Model Name\"]].groupby('SITE').value_counts()\n",
    "tmp[tmp > 0]"
   ]
  },
  {
   "cell_type": "markdown",
   "id": "bd7e0398-4280-4bb8-8f0c-5548e992f2c7",
   "metadata": {},
   "source": [
    "Absolutely. There is some repetition, but no two sites seem to favor the same models (especially if we consider A & E the same location)."
   ]
  },
  {
   "cell_type": "code",
   "execution_count": 6,
   "id": "7e6f1779-9121-46db-80af-62529454b557",
   "metadata": {
    "execution": {
     "iopub.execute_input": "2024-01-30T21:25:21.590350Z",
     "iopub.status.busy": "2024-01-30T21:25:21.589788Z",
     "iopub.status.idle": "2024-01-30T21:25:21.598021Z",
     "shell.execute_reply": "2024-01-30T21:25:21.597089Z",
     "shell.execute_reply.started": "2024-01-30T21:25:21.590325Z"
    },
    "tags": []
   },
   "outputs": [
    {
     "data": {
      "text/plain": [
       "SITE\n",
       "A    4040\n",
       "B    5731\n",
       "C    7819\n",
       "D    6628\n",
       "E    2304\n",
       "Name: ID, dtype: int64"
      ]
     },
     "execution_count": 6,
     "metadata": {},
     "output_type": "execute_result"
    }
   ],
   "source": [
    "# How many x-rays per site?\n",
    "barcode_site_id_df.groupby('SITE')['ID'].count()"
   ]
  },
  {
   "cell_type": "markdown",
   "id": "51704f18-5429-4328-989b-75de43ca40ae",
   "metadata": {
    "execution": {
     "iopub.execute_input": "2023-10-12T22:20:59.459459Z",
     "iopub.status.busy": "2023-10-12T22:20:59.459185Z",
     "iopub.status.idle": "2023-10-12T22:20:59.464931Z",
     "shell.execute_reply": "2023-10-12T22:20:59.463934Z",
     "shell.execute_reply.started": "2023-10-12T22:20:59.459431Z"
    },
    "tags": []
   },
   "source": [
    "Notice that if we add A & E their counts are on the same leve as other sites."
   ]
  },
  {
   "cell_type": "code",
   "execution_count": 7,
   "id": "e7315cc2-36bd-409c-901f-5f71b9bfd047",
   "metadata": {
    "execution": {
     "iopub.execute_input": "2024-01-30T21:25:21.600054Z",
     "iopub.status.busy": "2024-01-30T21:25:21.599667Z",
     "iopub.status.idle": "2024-01-30T21:25:21.628499Z",
     "shell.execute_reply": "2024-01-30T21:25:21.627790Z",
     "shell.execute_reply.started": "2024-01-30T21:25:21.600025Z"
    },
    "tags": []
   },
   "outputs": [
    {
     "data": {
      "text/html": [
       "<div>\n",
       "<style scoped>\n",
       "    .dataframe tbody tr th:only-of-type {\n",
       "        vertical-align: middle;\n",
       "    }\n",
       "\n",
       "    .dataframe tbody tr th {\n",
       "        vertical-align: top;\n",
       "    }\n",
       "\n",
       "    .dataframe thead th {\n",
       "        text-align: right;\n",
       "    }\n",
       "</style>\n",
       "<table border=\"1\" class=\"dataframe\">\n",
       "  <thead>\n",
       "    <tr style=\"text-align: right;\">\n",
       "      <th>SITE</th>\n",
       "      <th>A</th>\n",
       "      <th>B</th>\n",
       "      <th>C</th>\n",
       "      <th>D</th>\n",
       "      <th>E</th>\n",
       "    </tr>\n",
       "    <tr>\n",
       "      <th>RACE</th>\n",
       "      <th></th>\n",
       "      <th></th>\n",
       "      <th></th>\n",
       "      <th></th>\n",
       "      <th></th>\n",
       "    </tr>\n",
       "  </thead>\n",
       "  <tbody>\n",
       "    <tr>\n",
       "      <th>1: White or Caucasian</th>\n",
       "      <td>50.7%</td>\n",
       "      <td>95.1%</td>\n",
       "      <td>91.4%</td>\n",
       "      <td>84.2%</td>\n",
       "      <td>57.0%</td>\n",
       "    </tr>\n",
       "    <tr>\n",
       "      <th>2: Black or African American</th>\n",
       "      <td>47.1%</td>\n",
       "      <td>1.7%</td>\n",
       "      <td>7.0%</td>\n",
       "      <td>13.7%</td>\n",
       "      <td>38.8%</td>\n",
       "    </tr>\n",
       "    <tr>\n",
       "      <th>0: Other Non-white</th>\n",
       "      <td>1.3%</td>\n",
       "      <td>2.1%</td>\n",
       "      <td>1.2%</td>\n",
       "      <td>0.9%</td>\n",
       "      <td>2.8%</td>\n",
       "    </tr>\n",
       "    <tr>\n",
       "      <th>3: Asian</th>\n",
       "      <td>0.6%</td>\n",
       "      <td>0.9%</td>\n",
       "      <td>0.4%</td>\n",
       "      <td>1.2%</td>\n",
       "      <td>1.2%</td>\n",
       "    </tr>\n",
       "    <tr>\n",
       "      <th>.R: Refused</th>\n",
       "      <td>0.1%</td>\n",
       "      <td>0.1%</td>\n",
       "      <td>NaN</td>\n",
       "      <td>NaN</td>\n",
       "      <td>NaN</td>\n",
       "    </tr>\n",
       "    <tr>\n",
       "      <th>.D: Don t Know/Unknown/Uncertain</th>\n",
       "      <td>0.0%</td>\n",
       "      <td>NaN</td>\n",
       "      <td>0.1%</td>\n",
       "      <td>NaN</td>\n",
       "      <td>0.3%</td>\n",
       "    </tr>\n",
       "  </tbody>\n",
       "</table>\n",
       "</div>"
      ],
      "text/plain": [
       "SITE                                  A      B      C      D      E\n",
       "RACE                                                               \n",
       "1: White or Caucasian             50.7%  95.1%  91.4%  84.2%  57.0%\n",
       "2: Black or African American      47.1%   1.7%   7.0%  13.7%  38.8%\n",
       "0: Other Non-white                 1.3%   2.1%   1.2%   0.9%   2.8%\n",
       "3: Asian                           0.6%   0.9%   0.4%   1.2%   1.2%\n",
       ".R: Refused                        0.1%   0.1%    NaN    NaN    NaN\n",
       ".D: Don t Know/Unknown/Uncertain   0.0%    NaN   0.1%    NaN   0.3%"
      ]
     },
     "execution_count": 7,
     "metadata": {},
     "output_type": "execute_result"
    }
   ],
   "source": [
    "# How does race split across sites? Percentages shown.\n",
    "tmp = barcode_site_id_df[['SITE', 'RACE']].groupby('SITE').value_counts(normalize=True)\n",
    "tmp = tmp[tmp > 0].apply(lambda x: '{:.1%}'.format(x)).unstack('SITE')\n",
    "tmp"
   ]
  },
  {
   "cell_type": "code",
   "execution_count": 8,
   "id": "01abe44c-bd45-4754-8906-042bb3ed0e55",
   "metadata": {
    "execution": {
     "iopub.execute_input": "2024-01-30T21:25:21.630005Z",
     "iopub.status.busy": "2024-01-30T21:25:21.629675Z",
     "iopub.status.idle": "2024-01-30T21:25:22.502936Z",
     "shell.execute_reply": "2024-01-30T21:25:22.502310Z",
     "shell.execute_reply.started": "2024-01-30T21:25:21.629980Z"
    },
    "tags": []
   },
   "outputs": [],
   "source": [
    "utils.render_dataframe(tmp, Path('imgs/OAI_site_v_race.svg'))"
   ]
  },
  {
   "cell_type": "code",
   "execution_count": 9,
   "id": "721cbaba-a6fb-4a57-a982-8301319a20eb",
   "metadata": {
    "execution": {
     "iopub.execute_input": "2024-01-30T21:25:22.504632Z",
     "iopub.status.busy": "2024-01-30T21:25:22.503851Z",
     "iopub.status.idle": "2024-01-30T21:25:22.663273Z",
     "shell.execute_reply": "2024-01-30T21:25:22.662144Z",
     "shell.execute_reply.started": "2024-01-30T21:25:22.504609Z"
    },
    "tags": []
   },
   "outputs": [],
   "source": [
    "utils.render_dataframe(tmp, Path('imgs/OAI_site_v_race.docx'))"
   ]
  },
  {
   "cell_type": "code",
   "execution_count": 10,
   "id": "88401118-519c-40e2-9b38-da1f5bee7c88",
   "metadata": {
    "execution": {
     "iopub.execute_input": "2024-01-30T21:25:22.665800Z",
     "iopub.status.busy": "2024-01-30T21:25:22.664928Z",
     "iopub.status.idle": "2024-01-30T21:25:22.715122Z",
     "shell.execute_reply": "2024-01-30T21:25:22.713252Z",
     "shell.execute_reply.started": "2024-01-30T21:25:22.665738Z"
    },
    "tags": []
   },
   "outputs": [
    {
     "data": {
      "text/html": [
       "<div>\n",
       "<style scoped>\n",
       "    .dataframe tbody tr th:only-of-type {\n",
       "        vertical-align: middle;\n",
       "    }\n",
       "\n",
       "    .dataframe tbody tr th {\n",
       "        vertical-align: top;\n",
       "    }\n",
       "\n",
       "    .dataframe thead th {\n",
       "        text-align: right;\n",
       "    }\n",
       "</style>\n",
       "<table border=\"1\" class=\"dataframe\">\n",
       "  <thead>\n",
       "    <tr style=\"text-align: right;\">\n",
       "      <th>SITE</th>\n",
       "      <th>A</th>\n",
       "      <th>B</th>\n",
       "      <th>C</th>\n",
       "      <th>D</th>\n",
       "      <th>E</th>\n",
       "    </tr>\n",
       "    <tr>\n",
       "      <th>INCOME</th>\n",
       "      <th></th>\n",
       "      <th></th>\n",
       "      <th></th>\n",
       "      <th></th>\n",
       "      <th></th>\n",
       "    </tr>\n",
       "  </thead>\n",
       "  <tbody>\n",
       "    <tr>\n",
       "      <th>4: $50K to &lt; $100K</th>\n",
       "      <td>31.4%</td>\n",
       "      <td>33.5%</td>\n",
       "      <td>38.3%</td>\n",
       "      <td>37.2%</td>\n",
       "      <td>28.2%</td>\n",
       "    </tr>\n",
       "    <tr>\n",
       "      <th>5: $100K or greater</th>\n",
       "      <td>24.5%</td>\n",
       "      <td>22.6%</td>\n",
       "      <td>30.9%</td>\n",
       "      <td>18.5%</td>\n",
       "      <td>17.1%</td>\n",
       "    </tr>\n",
       "    <tr>\n",
       "      <th>3: $25K to &lt; $50K</th>\n",
       "      <td>20.9%</td>\n",
       "      <td>25.3%</td>\n",
       "      <td>19.8%</td>\n",
       "      <td>26.2%</td>\n",
       "      <td>25.1%</td>\n",
       "    </tr>\n",
       "    <tr>\n",
       "      <th>2: $10K to &lt; $25K</th>\n",
       "      <td>11.4%</td>\n",
       "      <td>11.3%</td>\n",
       "      <td>4.2%</td>\n",
       "      <td>9.3%</td>\n",
       "      <td>10.0%</td>\n",
       "    </tr>\n",
       "    <tr>\n",
       "      <th>.D: Don t Know/Unknown/Uncertain</th>\n",
       "      <td>6.9%</td>\n",
       "      <td>4.1%</td>\n",
       "      <td>4.5%</td>\n",
       "      <td>3.9%</td>\n",
       "      <td>4.4%</td>\n",
       "    </tr>\n",
       "    <tr>\n",
       "      <th>1: Less than $10K</th>\n",
       "      <td>3.5%</td>\n",
       "      <td>2.4%</td>\n",
       "      <td>1.5%</td>\n",
       "      <td>2.7%</td>\n",
       "      <td>7.0%</td>\n",
       "    </tr>\n",
       "    <tr>\n",
       "      <th>.R: Refused</th>\n",
       "      <td>0.8%</td>\n",
       "      <td>0.3%</td>\n",
       "      <td>0.6%</td>\n",
       "      <td>1.3%</td>\n",
       "      <td>6.8%</td>\n",
       "    </tr>\n",
       "    <tr>\n",
       "      <th>.M: Missing</th>\n",
       "      <td>0.6%</td>\n",
       "      <td>0.5%</td>\n",
       "      <td>0.2%</td>\n",
       "      <td>1.0%</td>\n",
       "      <td>1.4%</td>\n",
       "    </tr>\n",
       "  </tbody>\n",
       "</table>\n",
       "</div>"
      ],
      "text/plain": [
       "SITE                                  A      B      C      D      E\n",
       "INCOME                                                             \n",
       "4: $50K to < $100K                31.4%  33.5%  38.3%  37.2%  28.2%\n",
       "5: $100K or greater               24.5%  22.6%  30.9%  18.5%  17.1%\n",
       "3: $25K to < $50K                 20.9%  25.3%  19.8%  26.2%  25.1%\n",
       "2: $10K to < $25K                 11.4%  11.3%   4.2%   9.3%  10.0%\n",
       ".D: Don t Know/Unknown/Uncertain   6.9%   4.1%   4.5%   3.9%   4.4%\n",
       "1: Less than $10K                  3.5%   2.4%   1.5%   2.7%   7.0%\n",
       ".R: Refused                        0.8%   0.3%   0.6%   1.3%   6.8%\n",
       ".M: Missing                        0.6%   0.5%   0.2%   1.0%   1.4%"
      ]
     },
     "execution_count": 10,
     "metadata": {},
     "output_type": "execute_result"
    }
   ],
   "source": [
    "# Income distribution?\n",
    "tmp = barcode_site_id_df[['SITE', 'INCOME']].groupby('SITE').value_counts(normalize=True)\n",
    "tmp = tmp[tmp > 0].apply(lambda x: '{:.1%}'.format(x)).unstack('SITE')\n",
    "tmp"
   ]
  },
  {
   "cell_type": "code",
   "execution_count": 11,
   "id": "3ca2dfba-9f47-40b7-941e-de18218949ea",
   "metadata": {
    "execution": {
     "iopub.execute_input": "2024-01-30T21:25:22.718819Z",
     "iopub.status.busy": "2024-01-30T21:25:22.717699Z",
     "iopub.status.idle": "2024-01-30T21:25:23.011302Z",
     "shell.execute_reply": "2024-01-30T21:25:23.010323Z",
     "shell.execute_reply.started": "2024-01-30T21:25:22.718779Z"
    },
    "tags": []
   },
   "outputs": [],
   "source": [
    "utils.render_dataframe(tmp, Path('imgs/OAI_site_v_income1.svg'))"
   ]
  },
  {
   "cell_type": "code",
   "execution_count": 12,
   "id": "b414cfca-c555-4266-86ba-1ec58fdae078",
   "metadata": {
    "execution": {
     "iopub.execute_input": "2024-01-30T21:25:23.013069Z",
     "iopub.status.busy": "2024-01-30T21:25:23.012589Z",
     "iopub.status.idle": "2024-01-30T21:25:23.044133Z",
     "shell.execute_reply": "2024-01-30T21:25:23.042973Z",
     "shell.execute_reply.started": "2024-01-30T21:25:23.013029Z"
    },
    "tags": []
   },
   "outputs": [
    {
     "data": {
      "text/html": [
       "<div>\n",
       "<style scoped>\n",
       "    .dataframe tbody tr th:only-of-type {\n",
       "        vertical-align: middle;\n",
       "    }\n",
       "\n",
       "    .dataframe tbody tr th {\n",
       "        vertical-align: top;\n",
       "    }\n",
       "\n",
       "    .dataframe thead th {\n",
       "        text-align: right;\n",
       "    }\n",
       "</style>\n",
       "<table border=\"1\" class=\"dataframe\">\n",
       "  <thead>\n",
       "    <tr style=\"text-align: right;\">\n",
       "      <th>SITE</th>\n",
       "      <th>A</th>\n",
       "      <th>B</th>\n",
       "      <th>C</th>\n",
       "      <th>D</th>\n",
       "      <th>E</th>\n",
       "    </tr>\n",
       "    <tr>\n",
       "      <th>INCOME2</th>\n",
       "      <th></th>\n",
       "      <th></th>\n",
       "      <th></th>\n",
       "      <th></th>\n",
       "      <th></th>\n",
       "    </tr>\n",
       "  </thead>\n",
       "  <tbody>\n",
       "    <tr>\n",
       "      <th>2: &gt; $50K</th>\n",
       "      <td>58.4%</td>\n",
       "      <td>57.8%</td>\n",
       "      <td>72.0%</td>\n",
       "      <td>57.4%</td>\n",
       "      <td>47.6%</td>\n",
       "    </tr>\n",
       "    <tr>\n",
       "      <th>1: &lt; $50K</th>\n",
       "      <td>37.0%</td>\n",
       "      <td>39.1%</td>\n",
       "      <td>25.7%</td>\n",
       "      <td>38.3%</td>\n",
       "      <td>43.1%</td>\n",
       "    </tr>\n",
       "    <tr>\n",
       "      <th>.D: Don t Know/Unknown/Uncertain</th>\n",
       "      <td>3.4%</td>\n",
       "      <td>2.4%</td>\n",
       "      <td>1.7%</td>\n",
       "      <td>2.7%</td>\n",
       "      <td>3.3%</td>\n",
       "    </tr>\n",
       "    <tr>\n",
       "      <th>.R: Refused</th>\n",
       "      <td>0.8%</td>\n",
       "      <td>0.3%</td>\n",
       "      <td>0.3%</td>\n",
       "      <td>1.3%</td>\n",
       "      <td>5.3%</td>\n",
       "    </tr>\n",
       "    <tr>\n",
       "      <th>.M: Missing</th>\n",
       "      <td>0.3%</td>\n",
       "      <td>0.3%</td>\n",
       "      <td>0.2%</td>\n",
       "      <td>0.3%</td>\n",
       "      <td>0.7%</td>\n",
       "    </tr>\n",
       "  </tbody>\n",
       "</table>\n",
       "</div>"
      ],
      "text/plain": [
       "SITE                                  A      B      C      D      E\n",
       "INCOME2                                                            \n",
       "2: > $50K                         58.4%  57.8%  72.0%  57.4%  47.6%\n",
       "1: < $50K                         37.0%  39.1%  25.7%  38.3%  43.1%\n",
       ".D: Don t Know/Unknown/Uncertain   3.4%   2.4%   1.7%   2.7%   3.3%\n",
       ".R: Refused                        0.8%   0.3%   0.3%   1.3%   5.3%\n",
       ".M: Missing                        0.3%   0.3%   0.2%   0.3%   0.7%"
      ]
     },
     "execution_count": 12,
     "metadata": {},
     "output_type": "execute_result"
    }
   ],
   "source": [
    "# Income distribution (simplified)?\n",
    "tmp = barcode_site_id_df[['SITE', 'INCOME2']].groupby('SITE').value_counts(normalize=True)\n",
    "tmp = tmp[tmp > 0].apply(lambda x: '{:.1%}'.format(x)).unstack('SITE')\n",
    "tmp"
   ]
  },
  {
   "cell_type": "code",
   "execution_count": 13,
   "id": "b8476a5d-089f-48b3-a827-0f1674df6e85",
   "metadata": {
    "execution": {
     "iopub.execute_input": "2024-01-30T21:25:23.052890Z",
     "iopub.status.busy": "2024-01-30T21:25:23.052369Z",
     "iopub.status.idle": "2024-01-30T21:25:23.132236Z",
     "shell.execute_reply": "2024-01-30T21:25:23.131626Z",
     "shell.execute_reply.started": "2024-01-30T21:25:23.052861Z"
    },
    "tags": []
   },
   "outputs": [],
   "source": [
    "utils.render_dataframe(tmp, Path('imgs/OAI_site_v_income2.svg'))"
   ]
  },
  {
   "cell_type": "code",
   "execution_count": 14,
   "id": "278f97f9-b9ce-4695-84e5-5d5384dd276c",
   "metadata": {
    "execution": {
     "iopub.execute_input": "2024-01-30T21:25:23.133554Z",
     "iopub.status.busy": "2024-01-30T21:25:23.133260Z",
     "iopub.status.idle": "2024-01-30T21:25:23.212516Z",
     "shell.execute_reply": "2024-01-30T21:25:23.211906Z",
     "shell.execute_reply.started": "2024-01-30T21:25:23.133534Z"
    }
   },
   "outputs": [],
   "source": [
    "utils.render_dataframe(tmp, Path('imgs/OAI_site_v_income2.docx'))"
   ]
  },
  {
   "cell_type": "code",
   "execution_count": 15,
   "id": "7dd14641-1fb0-46ae-b900-2e2236a13912",
   "metadata": {
    "execution": {
     "iopub.execute_input": "2024-01-30T21:25:23.213847Z",
     "iopub.status.busy": "2024-01-30T21:25:23.213451Z",
     "iopub.status.idle": "2024-01-30T21:25:23.217100Z",
     "shell.execute_reply": "2024-01-30T21:25:23.216197Z",
     "shell.execute_reply.started": "2024-01-30T21:25:23.213807Z"
    },
    "tags": []
   },
   "outputs": [],
   "source": [
    "# Charleson comorbidity scores?  Sicker patients at one site vs another?\n",
    "# barcode_site_id_df.reset_index().pivot(index='XRBARCD', columns='SITE', values='COMORB').hist(density=True, sharex=True, sharey=True)"
   ]
  },
  {
   "cell_type": "code",
   "execution_count": 16,
   "id": "a186b057-094f-417b-ac1f-5871c6c9ec43",
   "metadata": {
    "execution": {
     "iopub.execute_input": "2024-01-30T21:25:23.219431Z",
     "iopub.status.busy": "2024-01-30T21:25:23.218926Z",
     "iopub.status.idle": "2024-01-30T21:25:24.128129Z",
     "shell.execute_reply": "2024-01-30T21:25:24.127539Z",
     "shell.execute_reply.started": "2024-01-30T21:25:23.219404Z"
    },
    "tags": []
   },
   "outputs": [
    {
     "data": {
      "text/plain": [
       "array([[<Axes: title={'center': 'A'}>, <Axes: title={'center': 'B'}>],\n",
       "       [<Axes: title={'center': 'C'}>, <Axes: title={'center': 'D'}>],\n",
       "       [<Axes: title={'center': 'E'}>, <Axes: >]], dtype=object)"
      ]
     },
     "execution_count": 16,
     "metadata": {},
     "output_type": "execute_result"
    },
    {
     "data": {
      "image/png": "[encoded data removed]",
      "text/plain": [
       "<Figure size 640x480 with 6 Axes>"
      ]
     },
     "metadata": {},
     "output_type": "display_data"
    }
   ],
   "source": [
    "tmp = barcode_site_id_df.reset_index().pivot(index='XRBARCD', columns='SITE', values='COMORB')\n",
    "for name, col in tmp.items():\n",
    "    tmp[name] = pd.to_numeric(col)\n",
    "tmp.hist(density=True, sharex=True, sharey=True)"
   ]
  },
  {
   "cell_type": "code",
   "execution_count": 17,
   "id": "78c63918-78dd-440b-b2b2-2f2eea57ed31",
   "metadata": {
    "execution": {
     "iopub.execute_input": "2024-01-30T21:25:24.129418Z",
     "iopub.status.busy": "2024-01-30T21:25:24.129048Z",
     "iopub.status.idle": "2024-01-30T21:25:24.150570Z",
     "shell.execute_reply": "2024-01-30T21:25:24.149811Z",
     "shell.execute_reply.started": "2024-01-30T21:25:24.129396Z"
    },
    "tags": []
   },
   "outputs": [
    {
     "data": {
      "text/html": [
       "<div>\n",
       "<style scoped>\n",
       "    .dataframe tbody tr th:only-of-type {\n",
       "        vertical-align: middle;\n",
       "    }\n",
       "\n",
       "    .dataframe tbody tr th {\n",
       "        vertical-align: top;\n",
       "    }\n",
       "\n",
       "    .dataframe thead th {\n",
       "        text-align: right;\n",
       "    }\n",
       "</style>\n",
       "<table border=\"1\" class=\"dataframe\">\n",
       "  <thead>\n",
       "    <tr style=\"text-align: right;\">\n",
       "      <th>SITE</th>\n",
       "      <th>A</th>\n",
       "      <th>B</th>\n",
       "      <th>C</th>\n",
       "      <th>D</th>\n",
       "      <th>E</th>\n",
       "    </tr>\n",
       "    <tr>\n",
       "      <th>COMORB</th>\n",
       "      <th></th>\n",
       "      <th></th>\n",
       "      <th></th>\n",
       "      <th></th>\n",
       "      <th></th>\n",
       "    </tr>\n",
       "  </thead>\n",
       "  <tbody>\n",
       "    <tr>\n",
       "      <th>0</th>\n",
       "      <td>71.4%</td>\n",
       "      <td>75.2%</td>\n",
       "      <td>81.3%</td>\n",
       "      <td>79.0%</td>\n",
       "      <td>66.1%</td>\n",
       "    </tr>\n",
       "    <tr>\n",
       "      <th>1</th>\n",
       "      <td>18.2%</td>\n",
       "      <td>15.1%</td>\n",
       "      <td>11.9%</td>\n",
       "      <td>13.6%</td>\n",
       "      <td>19.1%</td>\n",
       "    </tr>\n",
       "    <tr>\n",
       "      <th>2</th>\n",
       "      <td>6.3%</td>\n",
       "      <td>6.9%</td>\n",
       "      <td>4.5%</td>\n",
       "      <td>5.5%</td>\n",
       "      <td>8.6%</td>\n",
       "    </tr>\n",
       "    <tr>\n",
       "      <th>3</th>\n",
       "      <td>3.0%</td>\n",
       "      <td>1.5%</td>\n",
       "      <td>1.5%</td>\n",
       "      <td>1.3%</td>\n",
       "      <td>3.8%</td>\n",
       "    </tr>\n",
       "    <tr>\n",
       "      <th>4</th>\n",
       "      <td>0.4%</td>\n",
       "      <td>0.8%</td>\n",
       "      <td>0.4%</td>\n",
       "      <td>0.3%</td>\n",
       "      <td>1.5%</td>\n",
       "    </tr>\n",
       "    <tr>\n",
       "      <th>5</th>\n",
       "      <td>0.3%</td>\n",
       "      <td>0.4%</td>\n",
       "      <td>0.1%</td>\n",
       "      <td>0.1%</td>\n",
       "      <td>0.4%</td>\n",
       "    </tr>\n",
       "    <tr>\n",
       "      <th>6</th>\n",
       "      <td>0.3%</td>\n",
       "      <td>NaN</td>\n",
       "      <td>0.2%</td>\n",
       "      <td>0.1%</td>\n",
       "      <td>0.4%</td>\n",
       "    </tr>\n",
       "    <tr>\n",
       "      <th>7</th>\n",
       "      <td>0.2%</td>\n",
       "      <td>0.1%</td>\n",
       "      <td>0.1%</td>\n",
       "      <td>0.1%</td>\n",
       "      <td>NaN</td>\n",
       "    </tr>\n",
       "    <tr>\n",
       "      <th>10</th>\n",
       "      <td>NaN</td>\n",
       "      <td>NaN</td>\n",
       "      <td>NaN</td>\n",
       "      <td>NaN</td>\n",
       "      <td>0.2%</td>\n",
       "    </tr>\n",
       "  </tbody>\n",
       "</table>\n",
       "</div>"
      ],
      "text/plain": [
       "SITE        A      B      C      D      E\n",
       "COMORB                                   \n",
       "0       71.4%  75.2%  81.3%  79.0%  66.1%\n",
       "1       18.2%  15.1%  11.9%  13.6%  19.1%\n",
       "2        6.3%   6.9%   4.5%   5.5%   8.6%\n",
       "3        3.0%   1.5%   1.5%   1.3%   3.8%\n",
       "4        0.4%   0.8%   0.4%   0.3%   1.5%\n",
       "5        0.3%   0.4%   0.1%   0.1%   0.4%\n",
       "6        0.3%    NaN   0.2%   0.1%   0.4%\n",
       "7        0.2%   0.1%   0.1%   0.1%    NaN\n",
       "10        NaN    NaN    NaN    NaN   0.2%"
      ]
     },
     "execution_count": 17,
     "metadata": {},
     "output_type": "execute_result"
    }
   ],
   "source": [
    "# Charleson comorbidity scores\n",
    "tmp = barcode_site_id_df[['SITE', 'COMORB']].groupby('SITE').value_counts(normalize=True)\n",
    "tmp = tmp[tmp > 0].apply(lambda x: '{:.1%}'.format(x)).unstack('SITE')\n",
    "tmp.index = tmp.index.rename_categories({x: str(x) for x in range(11)})\n",
    "tmp"
   ]
  },
  {
   "cell_type": "code",
   "execution_count": 18,
   "id": "483dd1a6-76d5-4c00-a7d2-58a9776a4db6",
   "metadata": {
    "execution": {
     "iopub.execute_input": "2024-01-30T21:25:24.152123Z",
     "iopub.status.busy": "2024-01-30T21:25:24.151761Z",
     "iopub.status.idle": "2024-01-30T21:25:24.245940Z",
     "shell.execute_reply": "2024-01-30T21:25:24.245010Z",
     "shell.execute_reply.started": "2024-01-30T21:25:24.152100Z"
    },
    "tags": []
   },
   "outputs": [],
   "source": [
    "utils.render_dataframe(tmp, Path('imgs/OAI_site_v_CCI.svg'))"
   ]
  },
  {
   "cell_type": "code",
   "execution_count": 19,
   "id": "eb258887-efed-43ca-863a-fbda62d7e4da",
   "metadata": {
    "execution": {
     "iopub.execute_input": "2024-01-30T21:25:24.247416Z",
     "iopub.status.busy": "2024-01-30T21:25:24.246990Z",
     "iopub.status.idle": "2024-01-30T21:25:24.388578Z",
     "shell.execute_reply": "2024-01-30T21:25:24.387891Z",
     "shell.execute_reply.started": "2024-01-30T21:25:24.247378Z"
    },
    "tags": []
   },
   "outputs": [],
   "source": [
    "utils.render_dataframe(tmp, Path('imgs/OAI_site_v_CCI.docx'))"
   ]
  },
  {
   "cell_type": "code",
   "execution_count": 20,
   "id": "3c037e5f-6500-4cd6-9631-502a1eeb1ac3",
   "metadata": {
    "execution": {
     "iopub.execute_input": "2024-01-30T21:25:24.389527Z",
     "iopub.status.busy": "2024-01-30T21:25:24.389350Z",
     "iopub.status.idle": "2024-01-30T21:25:24.413413Z",
     "shell.execute_reply": "2024-01-30T21:25:24.412686Z",
     "shell.execute_reply.started": "2024-01-30T21:25:24.389509Z"
    },
    "tags": []
   },
   "outputs": [
    {
     "name": "stdout",
     "output_type": "stream",
     "text": [
      "{| class=\"wikitable\" style=\"text-align: left;\"\n",
      "|+ <!-- caption -->\n",
      "|-\n",
      "! SITE   !! align=\"right\"|        0\n",
      "|-\n",
      "| A      || align=\"right\"| 10.4622\n",
      "|-\n",
      "| B      || align=\"right\"|  9.64298\n",
      "|-\n",
      "| C      || align=\"right\"|  6.81614\n",
      "|-\n",
      "| D      || align=\"right\"|  7.35114\n",
      "|-\n",
      "| E      || align=\"right\"| 14.8369\n",
      "|}\n"
     ]
    }
   ],
   "source": [
    "# Worst health? How many with Comorbidity Score > 1?\n",
    "tmp = barcode_site_id_df[['SITE', 'COMORB']].groupby('SITE').value_counts(normalize=True) * 100\n",
    "print((100 - (tmp.loc[idxSlc[:, 0]] + tmp.loc[idxSlc[:, 1]])).to_markdown(tablefmt='mediawiki'))"
   ]
  }
 ],
 "metadata": {
  "kernelspec": {
   "display_name": "Python 3 (ipykernel)",
   "language": "python",
   "name": "python3"
  },
  "language_info": {
   "codemirror_mode": {
    "name": "ipython",
    "version": 3
   },
   "file_extension": ".py",
   "mimetype": "text/x-python",
   "name": "python",
   "nbconvert_exporter": "python",
   "pygments_lexer": "ipython3",
   "version": "3.9.6"
  }
 },
 "nbformat": 4,
 "nbformat_minor": 5
}
