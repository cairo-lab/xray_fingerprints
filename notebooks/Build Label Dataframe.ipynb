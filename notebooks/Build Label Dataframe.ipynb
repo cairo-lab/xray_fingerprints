{
 "cells": [
  {
   "cell_type": "markdown",
   "id": "408d834d-0c9f-45c7-b50f-b9631af6cfab",
   "metadata": {},
   "source": [
    "# Build label dataframe"
   ]
  },
  {
   "cell_type": "markdown",
   "id": "9f92ba69-0d0a-4242-9771-79df078c8abc",
   "metadata": {},
   "source": [
    "## Imports"
   ]
  },
  {
   "cell_type": "code",
   "execution_count": 3,
   "id": "34e33648-49b6-4986-b97f-087d8807272c",
   "metadata": {
    "execution": {
     "iopub.execute_input": "2024-04-03T00:46:10.095134Z",
     "iopub.status.busy": "2024-04-03T00:46:10.094751Z",
     "iopub.status.idle": "2024-04-03T00:46:10.704879Z",
     "shell.execute_reply": "2024-04-03T00:46:10.704030Z",
     "shell.execute_reply.started": "2024-04-03T00:46:10.095102Z"
    },
    "tags": []
   },
   "outputs": [],
   "source": [
    "import numpy as np\n",
    "import pandas as pd\n",
    "from pathlib import Path\n",
    "\n",
    "import OAI_Utilities as utils # ln -s ../../OAI/notebooks/OAI_Utilities.py"
   ]
  },
  {
   "cell_type": "markdown",
   "id": "7061fb82-39b3-4ab0-b839-8e56c66208dc",
   "metadata": {},
   "source": [
    "## Constants"
   ]
  },
  {
   "cell_type": "code",
   "execution_count": 2,
   "id": "9485fe76-347e-4af0-969a-84fe5e343661",
   "metadata": {
    "execution": {
     "iopub.execute_input": "2024-03-07T22:10:29.472944Z",
     "iopub.status.busy": "2024-03-07T22:10:29.472497Z",
     "iopub.status.idle": "2024-03-07T22:10:29.477796Z",
     "shell.execute_reply": "2024-03-07T22:10:29.476902Z",
     "shell.execute_reply.started": "2024-03-07T22:10:29.472915Z"
    },
    "tags": []
   },
   "outputs": [],
   "source": [
    "OAI_DATA_PATH = Path.home() / 'code/OAI/notebooks/data/'\n",
    "idxSlc = pd.IndexSlice\n",
    "\n",
    "VARIABLES_OF_INTEREST = [\n",
    "    \"(0008, 0070) Manufacturer\",\n",
    "    \"(0008, 1090) Manufacturer's Model Name\",\n",
    "    \"(0012, 0030) Clinical Trial Site ID\",\n",
    "    \"(0018, 1000) Device Serial Number\",\n",
    "]\n",
    "\n",
    "food_var = ['FFQ18', 'FFQ40', 'FFQ69', 'FFQ70', 'FFQ52', 'FFQ37']"
   ]
  },
  {
   "cell_type": "markdown",
   "id": "26adef66-8afb-43f8-bffa-814fb1efc7f0",
   "metadata": {},
   "source": [
    "## Read in data"
   ]
  },
  {
   "cell_type": "code",
   "execution_count": 16,
   "id": "e3881cdd-8117-4812-a9e0-f625bbc8dd4c",
   "metadata": {
    "execution": {
     "iopub.execute_input": "2024-03-12T19:36:02.621428Z",
     "iopub.status.busy": "2024-03-12T19:36:02.620829Z",
     "iopub.status.idle": "2024-03-12T19:36:06.216974Z",
     "shell.execute_reply": "2024-03-12T19:36:06.216240Z",
     "shell.execute_reply.started": "2024-03-12T19:36:02.621377Z"
    },
    "tags": []
   },
   "outputs": [],
   "source": [
    "enrollees_df = utils.read_parquet(OAI_DATA_PATH / 'enrollees_values.parquet')  # RACE, SITE\n",
    "allclinical_df = utils.read_parquet(OAI_DATA_PATH / 'allclinical_values.parquet') # food_var\n",
    "xr_df = utils.read_parquet(OAI_DATA_PATH / 'xray_bilat_pa_fixed_flex_knee_values.parquet')\n",
    "metadata_df = utils.read_parquet(OAI_DATA_PATH / 'dicom_metadata_df.parquet') # Mfg, model, serial number"
   ]
  },
  {
   "cell_type": "markdown",
   "id": "451ddc7e-99e8-4a39-8158-bc4048cb0377",
   "metadata": {},
   "source": [
    "# Explore"
   ]
  },
  {
   "cell_type": "code",
   "execution_count": 22,
   "id": "42d4a2e5-ea85-4948-84c6-6d6eb8758e57",
   "metadata": {
    "execution": {
     "iopub.execute_input": "2024-03-12T19:38:09.730576Z",
     "iopub.status.busy": "2024-03-12T19:38:09.730178Z",
     "iopub.status.idle": "2024-03-12T19:38:09.737938Z",
     "shell.execute_reply": "2024-03-12T19:38:09.737066Z",
     "shell.execute_reply.started": "2024-03-12T19:38:09.730547Z"
    },
    "tags": []
   },
   "outputs": [
    {
     "data": {
      "text/plain": [
       "(567, 8)"
      ]
     },
     "execution_count": 22,
     "metadata": {},
     "output_type": "execute_result"
    }
   ],
   "source": [
    "# How big of a training set if it was only white men from C?\n",
    "enrollees_df[(enrollees_df['SITE'] == 'C') & (enrollees_df['SEX'] == '1: Male') & (enrollees_df['RACE'] == '1: White or Caucasian')].shape"
   ]
  },
  {
   "cell_type": "markdown",
   "id": "bbfefe29-6fe3-44b8-bd77-2d52d9ffb10a",
   "metadata": {},
   "source": [
    "# Create dataframes for model training"
   ]
  },
  {
   "cell_type": "markdown",
   "id": "cdf09ab2-e155-4058-abfc-f86b8d1ccfd9",
   "metadata": {
    "execution": {
     "iopub.execute_input": "2024-03-05T16:26:44.067867Z",
     "iopub.status.busy": "2024-03-05T16:26:44.067505Z",
     "iopub.status.idle": "2024-03-05T16:26:44.071223Z",
     "shell.execute_reply": "2024-03-05T16:26:44.070488Z",
     "shell.execute_reply.started": "2024-03-05T16:26:44.067841Z"
    },
    "tags": []
   },
   "source": [
    "## All images\n",
    "This is for the direct training of identifying SITE, SEX, RACE, MFG, MODEL, SERIAL, YEAR"
   ]
  },
  {
   "cell_type": "code",
   "execution_count": 4,
   "id": "8fb1589d-032f-4680-9091-349b4c014443",
   "metadata": {
    "execution": {
     "iopub.execute_input": "2024-03-07T22:10:32.590181Z",
     "iopub.status.busy": "2024-03-07T22:10:32.589883Z",
     "iopub.status.idle": "2024-03-07T22:10:32.650997Z",
     "shell.execute_reply": "2024-03-07T22:10:32.650403Z",
     "shell.execute_reply.started": "2024-03-07T22:10:32.590154Z"
    },
    "tags": []
   },
   "outputs": [
    {
     "name": "stdout",
     "output_type": "stream",
     "text": [
      "Patients w/ FFQ18 var 4,654\n",
      "Patients w/ FFQ40 var 4,631\n",
      "Patients w/ FFQ69 var 4,665\n",
      "Patients w/ FFQ70 var 4,661\n",
      "Patients w/ FFQ52 var 4,659\n",
      "Patients w/ FFQ37 var 4,634\n",
      "Patients w/ race answer 4,791\n",
      "Patients with both race and FFQ18 answers 4,650\n",
      "Patients with both race and FFQ40 answers 4,627\n",
      "Patients with both race and FFQ69 answers 4,661\n",
      "Patients with both race and FFQ70 answers 4,657\n",
      "Patients with both race and FFQ52 answers 4,655\n",
      "Patients with both race and FFQ37 answers 4,630\n"
     ]
    }
   ],
   "source": [
    "no_answer = ['.E: Non-Exposed Control', '.R: Refused', '.A: Not Expected', '.M: Missing']\n",
    "replacements = {ans: np.NaN for ans in no_answer}\n",
    "# Drop rows without useable info\n",
    "food_answers_df = allclinical_df[food_var].copy(deep=True)\n",
    "food_answers_df = food_answers_df.reset_index('Visit', drop=True)\n",
    "for col in food_var:\n",
    "    food_answers_df[food_var] = food_answers_df[food_var].replace(replacements)\n",
    "food_answers_df = food_answers_df.dropna(how='all')\n",
    "for col in food_var:\n",
    "    print('Patients w/ {} var {:,}'.format(col, food_answers_df[col].notna().sum()))\n",
    "\n",
    "no_answer = ['.R: Refused', '.D: Don t Know/Unknown/Uncertain']\n",
    "replacements = {ans: np.NaN for ans in no_answer}\n",
    "enrollees_df['RACE'] = enrollees_df['RACE'].replace(replacements)\n",
    "enrollees_df = enrollees_df[~enrollees_df['RACE'].isna()]\n",
    "print('Patients w/ race answer {:,}'.format(len(enrollees_df)))\n",
    "\n",
    "for col in food_var:\n",
    "    cohort = set(food_answers_df[food_answers_df[col].notna()].index) & set(enrollees_df.index)\n",
    "    print('Patients with both race and {} answers {:,}'.format(col, len(cohort)))\n",
    "\n",
    "#enrollees_df = enrollees_df.loc[list(cohort)]\n",
    "#food_answers_df = food_answers_df.loc[list(cohort)]"
   ]
  },
  {
   "cell_type": "code",
   "execution_count": 5,
   "id": "deea7dc0-e4eb-4927-8020-83d00dfe3733",
   "metadata": {
    "execution": {
     "iopub.execute_input": "2024-03-07T22:10:32.652019Z",
     "iopub.status.busy": "2024-03-07T22:10:32.651828Z",
     "iopub.status.idle": "2024-03-07T22:10:32.738869Z",
     "shell.execute_reply": "2024-03-07T22:10:32.738192Z",
     "shell.execute_reply.started": "2024-03-07T22:10:32.652000Z"
    },
    "tags": []
   },
   "outputs": [
    {
     "name": "stdout",
     "output_type": "stream",
     "text": [
      "X-rays we have records for 26,520\n",
      "X-rays in set 26,495\n",
      "# of patients 4,789\n"
     ]
    }
   ],
   "source": [
    "xr_df['YEAR'] = xr_df['Date'].dt.year.astype(str)\n",
    "barcode_site_id_df = xr_df[['ID', 'Barcode', 'YEAR']].copy(deep=True)\n",
    "barcode_site_id_df['ID'] = pd.to_numeric(barcode_site_id_df['ID'], downcast='unsigned')\n",
    "barcode_site_id_df = barcode_site_id_df.set_index(['ID'])\n",
    "print('X-rays we have records for {:,}'.format(len(barcode_site_id_df)))\n",
    "\n",
    "# Result= XRBARCD: YEAR, ID, Visit, SITE, RACE, food_var, '(0008, 1090) Manufacturer's Model Name', '(0012, 0030) Clinical Trial Site ID', ....\n",
    "#barcode_site_id_df = barcode_site_id_df.join(allclinical_df['AGE'], how='left') # add AGE\n",
    "barcode_site_id_df = barcode_site_id_df.join(food_answers_df[food_var], how='left') #, how='inner')\n",
    "barcode_site_id_df = barcode_site_id_df.join(enrollees_df[['SITE', 'RACE', 'SEX']], how='inner')  # Add clinical site and patient race\n",
    "barcode_site_id_df = barcode_site_id_df.reset_index('ID').set_index('Barcode')  # Switch to index by barcode\n",
    "barcode_site_id_df = barcode_site_id_df.join(metadata_df[VARIABLES_OF_INTEREST]) # Add Mfg model, and Clinical Site ID (xray machine location)\n",
    "print('X-rays in set {:,}'.format(len(barcode_site_id_df)))  # Sanity check, the joins shouldn't be increase the number of entries\n",
    "print('# of patients {:,}'.format(len(barcode_site_id_df['ID'].unique())))"
   ]
  },
  {
   "cell_type": "code",
   "execution_count": 6,
   "id": "d27c6797-8d85-499b-bbe3-4898999b847e",
   "metadata": {
    "execution": {
     "iopub.execute_input": "2024-03-07T22:10:32.740301Z",
     "iopub.status.busy": "2024-03-07T22:10:32.739988Z",
     "iopub.status.idle": "2024-03-07T22:10:32.745405Z",
     "shell.execute_reply": "2024-03-07T22:10:32.744635Z",
     "shell.execute_reply.started": "2024-03-07T22:10:32.740277Z"
    },
    "tags": []
   },
   "outputs": [],
   "source": [
    "# Simplify column names\n",
    "barcode_site_id_df = barcode_site_id_df.rename({'(0008, 0070) Manufacturer': 'MFG',\n",
    "                           \"(0008, 1090) Manufacturer's Model Name\": 'MODEL', \n",
    "                           '(0012, 0030) Clinical Trial Site ID': 'XRAY SITE',\n",
    "                           '(0018, 1000) Device Serial Number': 'SERIAL'}, axis=1)"
   ]
  },
  {
   "cell_type": "code",
   "execution_count": 7,
   "id": "942fbf0c-49c1-4b00-8efa-6d1bf9ecefb9",
   "metadata": {
    "execution": {
     "iopub.execute_input": "2024-03-07T22:10:32.746788Z",
     "iopub.status.busy": "2024-03-07T22:10:32.746499Z",
     "iopub.status.idle": "2024-03-07T22:10:32.791547Z",
     "shell.execute_reply": "2024-03-07T22:10:32.790765Z",
     "shell.execute_reply.started": "2024-03-07T22:10:32.746763Z"
    },
    "tags": []
   },
   "outputs": [],
   "source": [
    "# Clean up labels\n",
    "var = 'MFG'\n",
    "barcode_site_id_df[var] = barcode_site_id_df[var].astype(str)\n",
    "barcode_site_id_df[var] = barcode_site_id_df[var].replace({'Agfa-Gevaert AG': 'Agfa-Gevaert',\n",
    "                                                           'AGFA': 'Agfa-Gevaert',\n",
    "                                                           'FUJI PHOTO FILM Co., ltd.': 'FUJI',\n",
    "                                                           'FUJIFILM Corporation': 'FUJI',\n",
    "                                                           '\"GE Healthcare\"': 'GE Healthcare',\n",
    "                                                           '': np.NaN,\n",
    "                                                           'nan': np.NaN\n",
    "                                                          })\n",
    "barcode_site_id_df[var] = barcode_site_id_df[var].astype('category')\n",
    "\n",
    "var = 'MODEL'\n",
    "barcode_site_id_df[var] = barcode_site_id_df[var].astype(str)\n",
    "barcode_site_id_df[var] = barcode_site_id_df[var].replace({\n",
    "    '\"Definium 5000\"': 'Definium 5000',\n",
    "    '\"Thunder Platform\"': 'Thunder Platform',    \n",
    "    '': np.NaN,\n",
    "    'nan': np.NaN\n",
    "})\n",
    "barcode_site_id_df[var] = barcode_site_id_df[var].astype('category')\n",
    "\n",
    "var = 'XRAY SITE'\n",
    "barcode_site_id_df[var] = barcode_site_id_df[var].astype(str)\n",
    "barcode_site_id_df[var] = barcode_site_id_df[var].replace({'None': np.NaN})\n",
    "barcode_site_id_df[var] = barcode_site_id_df[var].astype('category')\n",
    "\n",
    "var = 'SERIAL'\n",
    "barcode_site_id_df[var] = barcode_site_id_df[var].astype(str)\n",
    "barcode_site_id_df[var] = barcode_site_id_df[var].replace({'': np.NaN})\n",
    "barcode_site_id_df[var] = barcode_site_id_df[var].replace({'nan': np.NaN})\n",
    "barcode_site_id_df[var] = barcode_site_id_df[var].astype('category')"
   ]
  },
  {
   "cell_type": "code",
   "execution_count": 8,
   "id": "64a9f15e-9124-495a-bca9-e33e7f7914cc",
   "metadata": {
    "execution": {
     "iopub.execute_input": "2024-03-07T22:10:32.792945Z",
     "iopub.status.busy": "2024-03-07T22:10:32.792617Z",
     "iopub.status.idle": "2024-03-07T22:10:32.812216Z",
     "shell.execute_reply": "2024-03-07T22:10:32.811605Z",
     "shell.execute_reply.started": "2024-03-07T22:10:32.792921Z"
    },
    "tags": []
   },
   "outputs": [],
   "source": [
    "# Simplify class values\n",
    "for col in barcode_site_id_df.select_dtypes(include=['category']).columns:\n",
    "    barcode_site_id_df[col] = barcode_site_id_df[col].cat.remove_unused_categories()"
   ]
  },
  {
   "cell_type": "code",
   "execution_count": 9,
   "id": "2b08b73b-03a8-431e-beb2-b549509c2e10",
   "metadata": {
    "execution": {
     "iopub.execute_input": "2024-03-07T22:10:32.813383Z",
     "iopub.status.busy": "2024-03-07T22:10:32.813118Z",
     "iopub.status.idle": "2024-03-07T22:10:32.842635Z",
     "shell.execute_reply": "2024-03-07T22:10:32.841888Z",
     "shell.execute_reply.started": "2024-03-07T22:10:32.813359Z"
    },
    "tags": []
   },
   "outputs": [],
   "source": [
    "# Simplify class values\n",
    "for col in food_var:\n",
    "    barcode_site_id_df[col] = barcode_site_id_df[col].cat.rename_categories({\n",
    "    '1: Never' : 1,\n",
    "    '2: A few times per year' : 2,\n",
    "    '3: Once per month' : 3,\n",
    "    '4: 2-3 times per month' : 4,\n",
    "    '5: Once per week' : 5,\n",
    "    '6: Twice per week' : 6,\n",
    "    '7: 3-4 times per week' : 7,\n",
    "    '8: 5-6 times per week' : 8,\n",
    "    '9: Every day':9 })\n",
    "    \n",
    "    barcode_site_id_df[col] = barcode_site_id_df[col].astype('UInt8').astype('category') # otherwise this is int64\n",
    "\n",
    "barcode_site_id_df['RACE'] = barcode_site_id_df['RACE'].cat.rename_categories({\n",
    "    '0: Other Non-white' : 'O',\n",
    "    '1: White or Caucasian' : 'W',\n",
    "    '2: Black or African American' : 'B',\n",
    "    '3: Asian' : 'A' })\n",
    "\n",
    "barcode_site_id_df['SEX'] = barcode_site_id_df['SEX'].cat.rename_categories({\n",
    "    '1: Male' : 'M',\n",
    "    '2: Female' : 'F'})"
   ]
  },
  {
   "cell_type": "code",
   "execution_count": 10,
   "id": "27fa29cb-c875-44da-bca3-aa153ff3061c",
   "metadata": {
    "execution": {
     "iopub.execute_input": "2024-03-07T22:10:32.843960Z",
     "iopub.status.busy": "2024-03-07T22:10:32.843489Z",
     "iopub.status.idle": "2024-03-07T22:10:32.854421Z",
     "shell.execute_reply": "2024-03-07T22:10:32.853713Z",
     "shell.execute_reply.started": "2024-03-07T22:10:32.843936Z"
    },
    "tags": []
   },
   "outputs": [
    {
     "data": {
      "text/plain": [
       "ID                 9480338\n",
       "YEAR                  2012\n",
       "FFQ18                    3\n",
       "FFQ40                    1\n",
       "FFQ69                    1\n",
       "FFQ70                    3\n",
       "FFQ52                    6\n",
       "FFQ37                    2\n",
       "SITE                     C\n",
       "RACE                     W\n",
       "SEX                      F\n",
       "MFG          GE Healthcare\n",
       "MODEL        Definium 5000\n",
       "XRAY SITE               46\n",
       "SERIAL                 NaN\n",
       "Name: 03841001, dtype: object"
      ]
     },
     "execution_count": 10,
     "metadata": {},
     "output_type": "execute_result"
    }
   ],
   "source": [
    "barcode_site_id_df.loc['03841001']"
   ]
  },
  {
   "cell_type": "markdown",
   "id": "9c222c7e-34b4-4e37-bd87-02535c6eaf53",
   "metadata": {},
   "source": [
    "# Write to Parquet"
   ]
  },
  {
   "cell_type": "code",
   "execution_count": 11,
   "id": "2c3f36d3-fade-4d83-9f66-f6cd4e102c22",
   "metadata": {
    "execution": {
     "iopub.execute_input": "2024-03-07T22:10:32.855701Z",
     "iopub.status.busy": "2024-03-07T22:10:32.855383Z",
     "iopub.status.idle": "2024-03-07T22:10:32.889802Z",
     "shell.execute_reply": "2024-03-07T22:10:32.889108Z",
     "shell.execute_reply.started": "2024-03-07T22:10:32.855679Z"
    },
    "tags": []
   },
   "outputs": [
    {
     "name": "stdout",
     "output_type": "stream",
     "text": [
      "Column FFQ18 is marked as categorical but will be stored as UInt8.\n",
      "Column FFQ40 is marked as categorical but will be stored as UInt8.\n",
      "Column FFQ69 is marked as categorical but will be stored as UInt8.\n",
      "Column FFQ70 is marked as categorical but will be stored as UInt8.\n",
      "Column FFQ52 is marked as categorical but will be stored as UInt8.\n",
      "Column FFQ37 is marked as categorical but will be stored as UInt8.\n"
     ]
    }
   ],
   "source": [
    "utils.write_parquet(barcode_site_id_df, Path('data/xray_shortcutting_labels.parquet'))"
   ]
  },
  {
   "cell_type": "code",
   "execution_count": 12,
   "id": "7df79a25-f389-49b8-a415-69460f6b64ea",
   "metadata": {
    "execution": {
     "iopub.execute_input": "2024-03-07T22:10:32.891108Z",
     "iopub.status.busy": "2024-03-07T22:10:32.890815Z",
     "iopub.status.idle": "2024-03-07T22:10:32.917667Z",
     "shell.execute_reply": "2024-03-07T22:10:32.916967Z",
     "shell.execute_reply.started": "2024-03-07T22:10:32.891088Z"
    },
    "tags": []
   },
   "outputs": [
    {
     "name": "stdout",
     "output_type": "stream",
     "text": [
      "Column FFQ18 is marked as categorical but will be stored as UInt8.\n",
      "Column FFQ40 is marked as categorical but will be stored as UInt8.\n",
      "Column FFQ69 is marked as categorical but will be stored as UInt8.\n",
      "Column FFQ70 is marked as categorical but will be stored as UInt8.\n",
      "Column FFQ52 is marked as categorical but will be stored as UInt8.\n",
      "Column FFQ37 is marked as categorical but will be stored as UInt8.\n"
     ]
    }
   ],
   "source": [
    "# A dataset for local CNN tests\n",
    "utils.write_parquet(barcode_site_id_df[barcode_site_id_df.index.str.startswith('000')], Path('data/xray_shortcutting_labels_test.parquet'))"
   ]
  },
  {
   "cell_type": "code",
   "execution_count": 13,
   "id": "ba01145d-ac31-4963-acdc-04b8e6ff8500",
   "metadata": {
    "execution": {
     "iopub.execute_input": "2024-03-07T22:10:32.923100Z",
     "iopub.status.busy": "2024-03-07T22:10:32.922810Z",
     "iopub.status.idle": "2024-03-07T22:10:32.928327Z",
     "shell.execute_reply": "2024-03-07T22:10:32.927562Z",
     "shell.execute_reply.started": "2024-03-07T22:10:32.923077Z"
    },
    "tags": []
   },
   "outputs": [
    {
     "data": {
      "text/plain": [
       "ID             uint64\n",
       "YEAR           object\n",
       "FFQ18        category\n",
       "FFQ40        category\n",
       "FFQ69        category\n",
       "FFQ70        category\n",
       "FFQ52        category\n",
       "FFQ37        category\n",
       "SITE         category\n",
       "RACE         category\n",
       "SEX          category\n",
       "MFG          category\n",
       "MODEL        category\n",
       "XRAY SITE    category\n",
       "SERIAL       category\n",
       "dtype: object"
      ]
     },
     "execution_count": 13,
     "metadata": {},
     "output_type": "execute_result"
    }
   ],
   "source": [
    "barcode_site_id_df.dtypes"
   ]
  },
  {
   "cell_type": "code",
   "execution_count": 4,
   "id": "05b414e3-a226-48e5-9b71-986bf2b8869e",
   "metadata": {
    "execution": {
     "iopub.execute_input": "2024-04-03T00:46:25.037927Z",
     "iopub.status.busy": "2024-04-03T00:46:25.037487Z",
     "iopub.status.idle": "2024-04-03T00:46:25.147503Z",
     "shell.execute_reply": "2024-04-03T00:46:25.146669Z",
     "shell.execute_reply.started": "2024-04-03T00:46:25.037898Z"
    },
    "tags": []
   },
   "outputs": [],
   "source": [
    "barcode_site_id_df = utils.read_parquet(Path('data/xray_shortcutting_labels.parquet'))"
   ]
  },
  {
   "cell_type": "code",
   "execution_count": 10,
   "id": "304aa3fa-d4c5-48d6-a1ec-c86e0953a572",
   "metadata": {
    "execution": {
     "iopub.execute_input": "2024-04-03T00:48:09.660646Z",
     "iopub.status.busy": "2024-04-03T00:48:09.660085Z",
     "iopub.status.idle": "2024-04-03T00:48:09.668899Z",
     "shell.execute_reply": "2024-04-03T00:48:09.667845Z",
     "shell.execute_reply.started": "2024-04-03T00:48:09.660538Z"
    },
    "tags": []
   },
   "outputs": [
    {
     "data": {
      "text/plain": [
       "26495"
      ]
     },
     "execution_count": 10,
     "metadata": {},
     "output_type": "execute_result"
    }
   ],
   "source": [
    "barcode_site_id_df['MFG'].value_counts().sum()"
   ]
  },
  {
   "cell_type": "code",
   "execution_count": 24,
   "id": "412a9937-0b14-45b8-9341-c60762782efb",
   "metadata": {
    "execution": {
     "iopub.execute_input": "2024-04-03T12:46:08.544974Z",
     "iopub.status.busy": "2024-04-03T12:46:08.544583Z",
     "iopub.status.idle": "2024-04-03T12:46:08.555899Z",
     "shell.execute_reply": "2024-04-03T12:46:08.555011Z",
     "shell.execute_reply.started": "2024-04-03T12:46:08.544945Z"
    },
    "tags": []
   },
   "outputs": [
    {
     "data": {
      "text/plain": [
       "C    7564\n",
       "D    6280\n",
       "B    5718\n",
       "A    4000\n",
       "E    2181\n",
       "Name: SITE, dtype: int64"
      ]
     },
     "execution_count": 24,
     "metadata": {},
     "output_type": "execute_result"
    }
   ],
   "source": [
    "barcode_site_id_df[barcode_site_id_df['FFQ18'].notna()]['SITE'].value_counts()"
   ]
  }
 ],
 "metadata": {
  "kernelspec": {
   "display_name": "Python 3 (ipykernel)",
   "language": "python",
   "name": "python3"
  },
  "language_info": {
   "codemirror_mode": {
    "name": "ipython",
    "version": 3
   },
   "file_extension": ".py",
   "mimetype": "text/x-python",
   "name": "python",
   "nbconvert_exporter": "python",
   "pygments_lexer": "ipython3",
   "version": "3.9.6"
  }
 },
 "nbformat": 4,
 "nbformat_minor": 5
}
