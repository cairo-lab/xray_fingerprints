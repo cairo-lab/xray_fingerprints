{
 "cells": [
  {
   "cell_type": "markdown",
   "id": "408d834d-0c9f-45c7-b50f-b9631af6cfab",
   "metadata": {},
   "source": [
    "# Build label dataframe"
   ]
  },
  {
   "cell_type": "markdown",
   "id": "9f92ba69-0d0a-4242-9771-79df078c8abc",
   "metadata": {},
   "source": [
    "## Imports"
   ]
  },
  {
   "cell_type": "code",
   "execution_count": 1,
   "id": "34e33648-49b6-4986-b97f-087d8807272c",
   "metadata": {
    "execution": {
     "iopub.execute_input": "2023-11-30T17:04:51.288977Z",
     "iopub.status.busy": "2023-11-30T17:04:51.288746Z",
     "iopub.status.idle": "2023-11-30T17:04:51.727924Z",
     "shell.execute_reply": "2023-11-30T17:04:51.726991Z",
     "shell.execute_reply.started": "2023-11-30T17:04:51.288953Z"
    },
    "tags": []
   },
   "outputs": [],
   "source": [
    "import os\n",
    "import pandas as pd\n",
    "import pyarrow.parquet as pq\n",
    "import pyarrow as pa\n",
    "\n",
    "import OAI_Utilities as utils # ln -s ../../OAI/notebooks/OAI_Utilities.py"
   ]
  },
  {
   "cell_type": "markdown",
   "id": "7061fb82-39b3-4ab0-b839-8e56c66208dc",
   "metadata": {},
   "source": [
    "## Constants"
   ]
  },
  {
   "cell_type": "code",
   "execution_count": 2,
   "id": "9485fe76-347e-4af0-969a-84fe5e343661",
   "metadata": {
    "execution": {
     "iopub.execute_input": "2023-11-30T17:04:51.730648Z",
     "iopub.status.busy": "2023-11-30T17:04:51.729969Z",
     "iopub.status.idle": "2023-11-30T17:04:51.736504Z",
     "shell.execute_reply": "2023-11-30T17:04:51.734862Z",
     "shell.execute_reply.started": "2023-11-30T17:04:51.730626Z"
    },
    "tags": []
   },
   "outputs": [],
   "source": [
    "OAI_PKL_PATH = '/Users/brandong.hill/code/OAI/notebooks/pkl/'\n",
    "idxSlc = pd.IndexSlice\n",
    "\n",
    "VARIABLES_OF_INTEREST = [\n",
    "    \"(0008, 0070) Manufacturer\",\n",
    "    \"(0008, 1090) Manufacturer's Model Name\",\n",
    "    \"(0012, 0030) Clinical Trial Site ID\",\n",
    "    \"(0018, 1000) Device Serial Number\",\n",
    "]\n",
    "\n",
    "food_var = 'FFQ18'"
   ]
  },
  {
   "cell_type": "markdown",
   "id": "26adef66-8afb-43f8-bffa-814fb1efc7f0",
   "metadata": {},
   "source": [
    "## Read in data"
   ]
  },
  {
   "cell_type": "code",
   "execution_count": 3,
   "id": "e3881cdd-8117-4812-a9e0-f625bbc8dd4c",
   "metadata": {
    "execution": {
     "iopub.execute_input": "2023-11-30T17:04:51.738621Z",
     "iopub.status.busy": "2023-11-30T17:04:51.738097Z",
     "iopub.status.idle": "2023-11-30T17:04:52.171054Z",
     "shell.execute_reply": "2023-11-30T17:04:52.170056Z",
     "shell.execute_reply.started": "2023-11-30T17:04:51.738599Z"
    },
    "tags": []
   },
   "outputs": [],
   "source": [
    "enrollees_df = pd.read_pickle(open(os.path.join(OAI_PKL_PATH, 'enrollees_values.pkl'), 'rb' ))  # RACE\n",
    "allclinical_df = pd.read_pickle(open(os.path.join(OAI_PKL_PATH, 'allclinical_values.pkl'), 'rb' )) # food_var\n",
    "xr_df = pd.read_pickle(open(os.path.join(OAI_PKL_PATH, 'xray_values.pkl'), 'rb' ))\n",
    "metadata_df = pd.read_pickle(open('../../OAI_DICOM/pkl/dicom_metadata_df.pkl', 'rb'))"
   ]
  },
  {
   "cell_type": "code",
   "execution_count": 4,
   "id": "541514b8-b2d1-49eb-bc74-002942886316",
   "metadata": {
    "execution": {
     "iopub.execute_input": "2023-11-30T17:04:52.174788Z",
     "iopub.status.busy": "2023-11-30T17:04:52.174482Z",
     "iopub.status.idle": "2023-11-30T17:04:52.214757Z",
     "shell.execute_reply": "2023-11-30T17:04:52.214013Z",
     "shell.execute_reply.started": "2023-11-30T17:04:52.174765Z"
    },
    "tags": []
   },
   "outputs": [
    {
     "name": "stdout",
     "output_type": "stream",
     "text": [
      "Total entries: 31,767\n",
      "Entries with no barcode: 5,245\n",
      "Unique barcodes: 26,522\n"
     ]
    }
   ],
   "source": [
    "# What do OAI records say about what X-rays we have?\n",
    "\n",
    "# Only PA view\n",
    "xr_df = xr_df[xr_df['EXAMTP'] == 'Bilateral PA Fixed Flexion Knee'].copy(deep=True)\n",
    "print('Total entries: {:,}'.format(len(xr_df)))\n",
    "print('Entries with no barcode: {:,}'.format(xr_df['XRBARCD'].value_counts(dropna=False).at['']))\n",
    "\n",
    "# Drop those without a barcode. No barcode == no file\n",
    "xr_df = xr_df[xr_df['XRBARCD'] != ''].copy(deep=True)\n",
    "\n",
    "# Truncate the '0166' that starts each file name\n",
    "xr_df['XRBARCD'] = xr_df['XRBARCD'].str[4:]\n",
    "print('Unique barcodes: {:,}'.format(len(xr_df['XRBARCD'].unique())))"
   ]
  },
  {
   "cell_type": "code",
   "execution_count": 5,
   "id": "e0cedf16-1e58-4ced-bf80-452bf6676154",
   "metadata": {
    "execution": {
     "iopub.execute_input": "2023-11-30T17:04:52.216292Z",
     "iopub.status.busy": "2023-11-30T17:04:52.215758Z",
     "iopub.status.idle": "2023-11-30T17:04:52.500590Z",
     "shell.execute_reply": "2023-11-30T17:04:52.499898Z",
     "shell.execute_reply.started": "2023-11-30T17:04:52.216267Z"
    },
    "tags": []
   },
   "outputs": [
    {
     "name": "stdout",
     "output_type": "stream",
     "text": [
      "26520\n"
     ]
    }
   ],
   "source": [
    "# What about the records from actual unarchived files?\n",
    "ids_with_files = set(pd.read_pickle(open(os.path.join('../../OAI_DICOM/pkl/dicom_metadata_df.pkl'), 'rb' )).index)\n",
    "print(len(ids_with_files))"
   ]
  },
  {
   "cell_type": "code",
   "execution_count": 6,
   "id": "d3a6cc61-9120-4a7f-b880-770732def47a",
   "metadata": {
    "execution": {
     "iopub.execute_input": "2023-11-30T17:04:52.501792Z",
     "iopub.status.busy": "2023-11-30T17:04:52.501413Z",
     "iopub.status.idle": "2023-11-30T17:04:52.516097Z",
     "shell.execute_reply": "2023-11-30T17:04:52.515214Z",
     "shell.execute_reply.started": "2023-11-30T17:04:52.501769Z"
    },
    "tags": []
   },
   "outputs": [
    {
     "data": {
      "text/plain": [
       "{'02048905', '02258101'}"
      ]
     },
     "execution_count": 6,
     "metadata": {},
     "output_type": "execute_result"
    }
   ],
   "source": [
    "# Which files are missing? In records but not the archive\n",
    "missing = set(xr_df['XRBARCD']) - ids_with_files\n",
    "missing"
   ]
  },
  {
   "cell_type": "code",
   "execution_count": 7,
   "id": "c7cab7b8-34fe-4892-91e7-c10d20887329",
   "metadata": {
    "execution": {
     "iopub.execute_input": "2023-11-30T17:04:52.517683Z",
     "iopub.status.busy": "2023-11-30T17:04:52.517360Z",
     "iopub.status.idle": "2023-11-30T17:04:52.539811Z",
     "shell.execute_reply": "2023-11-30T17:04:52.538987Z",
     "shell.execute_reply.started": "2023-11-30T17:04:52.517659Z"
    },
    "tags": []
   },
   "outputs": [
    {
     "data": {
      "text/html": [
       "<div>\n",
       "<style scoped>\n",
       "    .dataframe tbody tr th:only-of-type {\n",
       "        vertical-align: middle;\n",
       "    }\n",
       "\n",
       "    .dataframe tbody tr th {\n",
       "        vertical-align: top;\n",
       "    }\n",
       "\n",
       "    .dataframe thead th {\n",
       "        text-align: right;\n",
       "    }\n",
       "</style>\n",
       "<table border=\"1\" class=\"dataframe\">\n",
       "  <thead>\n",
       "    <tr style=\"text-align: right;\">\n",
       "      <th></th>\n",
       "      <th></th>\n",
       "      <th>VERSION</th>\n",
       "      <th>ACCEPT</th>\n",
       "      <th>ALIGN</th>\n",
       "      <th>CENTER</th>\n",
       "      <th>DEPICT</th>\n",
       "      <th>EXAMTP</th>\n",
       "      <th>EXPOSE</th>\n",
       "      <th>MOTION</th>\n",
       "      <th>POSITN</th>\n",
       "      <th>XNDREAS</th>\n",
       "      <th>XRBARCD</th>\n",
       "      <th>XRCOMP</th>\n",
       "      <th>XRDATE</th>\n",
       "      <th>XRSIDE</th>\n",
       "      <th>XRTECID</th>\n",
       "    </tr>\n",
       "    <tr>\n",
       "      <th>ID</th>\n",
       "      <th>Visit</th>\n",
       "      <th></th>\n",
       "      <th></th>\n",
       "      <th></th>\n",
       "      <th></th>\n",
       "      <th></th>\n",
       "      <th></th>\n",
       "      <th></th>\n",
       "      <th></th>\n",
       "      <th></th>\n",
       "      <th></th>\n",
       "      <th></th>\n",
       "      <th></th>\n",
       "      <th></th>\n",
       "      <th></th>\n",
       "      <th></th>\n",
       "    </tr>\n",
       "  </thead>\n",
       "  <tbody>\n",
       "    <tr>\n",
       "      <th>9417544</th>\n",
       "      <th>V01</th>\n",
       "      <td>1.2.2</td>\n",
       "      <td>'Y': QCd and found to be acceptable</td>\n",
       "      <td>' '  : Not QCd or meets QC standard</td>\n",
       "      <td>' '  : Not QCd or meets QC standard</td>\n",
       "      <td>' '  : Not QCd or meets QC standard</td>\n",
       "      <td>Bilateral PA Fixed Flexion Knee</td>\n",
       "      <td>' '  : Not QCd or meets QC standard</td>\n",
       "      <td>' '  : Not QCd or meets QC standard</td>\n",
       "      <td>' '  : Not QCd or meets QC standard</td>\n",
       "      <td>.A: Not Expected</td>\n",
       "      <td>02048905</td>\n",
       "      <td>1: Yes</td>\n",
       "      <td>2007-04-23</td>\n",
       "      <td>3: Bilateral</td>\n",
       "      <td>A083</td>\n",
       "    </tr>\n",
       "    <tr>\n",
       "      <th>9354236</th>\n",
       "      <th>V03</th>\n",
       "      <td>3.2.2</td>\n",
       "      <td>'Y': QCd and found to be acceptable</td>\n",
       "      <td>' '  : Not QCd or meets QC standard</td>\n",
       "      <td>' '  : Not QCd or meets QC standard</td>\n",
       "      <td>' '  : Not QCd or meets QC standard</td>\n",
       "      <td>Bilateral PA Fixed Flexion Knee</td>\n",
       "      <td>' '  : Not QCd or meets QC standard</td>\n",
       "      <td>' '  : Not QCd or meets QC standard</td>\n",
       "      <td>' '  : Not QCd or meets QC standard</td>\n",
       "      <td>.A: Not Expected</td>\n",
       "      <td>02258101</td>\n",
       "      <td>1: Yes</td>\n",
       "      <td>2007-08-07</td>\n",
       "      <td>3: Bilateral</td>\n",
       "      <td>A049</td>\n",
       "    </tr>\n",
       "  </tbody>\n",
       "</table>\n",
       "</div>"
      ],
      "text/plain": [
       "              VERSION                               ACCEPT  \\\n",
       "ID      Visit                                                \n",
       "9417544 V01     1.2.2  'Y': QCd and found to be acceptable   \n",
       "9354236 V03     3.2.2  'Y': QCd and found to be acceptable   \n",
       "\n",
       "                                             ALIGN  \\\n",
       "ID      Visit                                        \n",
       "9417544 V01    ' '  : Not QCd or meets QC standard   \n",
       "9354236 V03    ' '  : Not QCd or meets QC standard   \n",
       "\n",
       "                                            CENTER  \\\n",
       "ID      Visit                                        \n",
       "9417544 V01    ' '  : Not QCd or meets QC standard   \n",
       "9354236 V03    ' '  : Not QCd or meets QC standard   \n",
       "\n",
       "                                            DEPICT  \\\n",
       "ID      Visit                                        \n",
       "9417544 V01    ' '  : Not QCd or meets QC standard   \n",
       "9354236 V03    ' '  : Not QCd or meets QC standard   \n",
       "\n",
       "                                        EXAMTP  \\\n",
       "ID      Visit                                    \n",
       "9417544 V01    Bilateral PA Fixed Flexion Knee   \n",
       "9354236 V03    Bilateral PA Fixed Flexion Knee   \n",
       "\n",
       "                                            EXPOSE  \\\n",
       "ID      Visit                                        \n",
       "9417544 V01    ' '  : Not QCd or meets QC standard   \n",
       "9354236 V03    ' '  : Not QCd or meets QC standard   \n",
       "\n",
       "                                            MOTION  \\\n",
       "ID      Visit                                        \n",
       "9417544 V01    ' '  : Not QCd or meets QC standard   \n",
       "9354236 V03    ' '  : Not QCd or meets QC standard   \n",
       "\n",
       "                                            POSITN           XNDREAS  \\\n",
       "ID      Visit                                                          \n",
       "9417544 V01    ' '  : Not QCd or meets QC standard  .A: Not Expected   \n",
       "9354236 V03    ' '  : Not QCd or meets QC standard  .A: Not Expected   \n",
       "\n",
       "                XRBARCD  XRCOMP     XRDATE        XRSIDE XRTECID  \n",
       "ID      Visit                                                     \n",
       "9417544 V01    02048905  1: Yes 2007-04-23  3: Bilateral    A083  \n",
       "9354236 V03    02258101  1: Yes 2007-08-07  3: Bilateral    A049  "
      ]
     },
     "execution_count": 7,
     "metadata": {},
     "output_type": "execute_result"
    }
   ],
   "source": [
    "# What do we know about the two missing files?\n",
    "xr_df[xr_df['XRBARCD'].isin(list(missing))]"
   ]
  },
  {
   "cell_type": "markdown",
   "id": "77dd4135-b859-4a81-a92d-a3663b2160ed",
   "metadata": {},
   "source": [
    "Actually QCd, found to be ok, but not included. Probably a mistake."
   ]
  },
  {
   "cell_type": "code",
   "execution_count": 8,
   "id": "e9b1958e-3de8-4c8b-a24f-654701ab0056",
   "metadata": {
    "execution": {
     "iopub.execute_input": "2023-11-30T17:04:52.541194Z",
     "iopub.status.busy": "2023-11-30T17:04:52.540747Z",
     "iopub.status.idle": "2023-11-30T17:04:52.549714Z",
     "shell.execute_reply": "2023-11-30T17:04:52.549067Z",
     "shell.execute_reply.started": "2023-11-30T17:04:52.541170Z"
    },
    "tags": []
   },
   "outputs": [
    {
     "name": "stdout",
     "output_type": "stream",
     "text": [
      "26520\n"
     ]
    }
   ],
   "source": [
    "# Drop the missing files\n",
    "xr_df = xr_df[~xr_df['XRBARCD'].isin(list(missing))]\n",
    "print(len(xr_df))"
   ]
  },
  {
   "cell_type": "markdown",
   "id": "391fd5c3-7ac4-4926-a0a4-f40a1c216d38",
   "metadata": {},
   "source": [
    "# QC"
   ]
  },
  {
   "cell_type": "code",
   "execution_count": 9,
   "id": "7412dab7-7d06-4c9c-81f5-b45bf9463a07",
   "metadata": {
    "execution": {
     "iopub.execute_input": "2023-11-30T17:04:52.551017Z",
     "iopub.status.busy": "2023-11-30T17:04:52.550573Z",
     "iopub.status.idle": "2023-11-30T17:04:52.561774Z",
     "shell.execute_reply": "2023-11-30T17:04:52.561060Z",
     "shell.execute_reply.started": "2023-11-30T17:04:52.550993Z"
    },
    "tags": []
   },
   "outputs": [
    {
     "name": "stdout",
     "output_type": "stream",
     "text": [
      "ALIGN \n",
      " 1594\n",
      "CENTER \n",
      " 322\n",
      "DEPICT \n",
      " 6\n",
      "EXPOSE \n",
      " 0\n",
      "MOTION \n",
      " 9\n",
      "POSITN \n",
      " 199\n"
     ]
    }
   ],
   "source": [
    "# What QC checks were failed?\n",
    "cols = ['ALIGN', 'CENTER', 'DEPICT', 'EXPOSE', 'MOTION', 'POSITN']\n",
    "for col in cols:\n",
    "    tmp_df = xr_df[xr_df[col] == \"'X': Does not meet QC standard\"]\n",
    "    print(col, '\\n',  len(tmp_df))"
   ]
  },
  {
   "cell_type": "code",
   "execution_count": 10,
   "id": "dcd841d0-0d0a-4121-a172-3015e8e5b5cb",
   "metadata": {
    "execution": {
     "iopub.execute_input": "2023-11-30T17:04:52.563155Z",
     "iopub.status.busy": "2023-11-30T17:04:52.562801Z",
     "iopub.status.idle": "2023-11-30T17:04:52.570095Z",
     "shell.execute_reply": "2023-11-30T17:04:52.569131Z",
     "shell.execute_reply.started": "2023-11-30T17:04:52.563130Z"
    },
    "tags": []
   },
   "outputs": [
    {
     "data": {
      "text/plain": [
       "'YD': Not QCd and accepted by default          15976\n",
       "'Y': QCd and found to be acceptable            10338\n",
       "'NR': QCd unacceptable, chosen for release       200\n",
       "NaN                                                4\n",
       "'NA': QCd unacceptable, no better available        2\n",
       "Name: ACCEPT, dtype: int64"
      ]
     },
     "execution_count": 10,
     "metadata": {},
     "output_type": "execute_result"
    }
   ],
   "source": [
    "# How many were completely rejected?\n",
    "utils.value_counts(xr_df['ACCEPT'])"
   ]
  },
  {
   "cell_type": "code",
   "execution_count": 11,
   "id": "2e1fa42c-2327-4e1a-aa55-6f4b433ac298",
   "metadata": {
    "execution": {
     "iopub.execute_input": "2023-11-30T17:04:52.572264Z",
     "iopub.status.busy": "2023-11-30T17:04:52.571691Z",
     "iopub.status.idle": "2023-11-30T17:04:52.590242Z",
     "shell.execute_reply": "2023-11-30T17:04:52.589266Z",
     "shell.execute_reply.started": "2023-11-30T17:04:52.572238Z"
    },
    "tags": []
   },
   "outputs": [
    {
     "data": {
      "text/html": [
       "<div>\n",
       "<style scoped>\n",
       "    .dataframe tbody tr th:only-of-type {\n",
       "        vertical-align: middle;\n",
       "    }\n",
       "\n",
       "    .dataframe tbody tr th {\n",
       "        vertical-align: top;\n",
       "    }\n",
       "\n",
       "    .dataframe thead th {\n",
       "        text-align: right;\n",
       "    }\n",
       "</style>\n",
       "<table border=\"1\" class=\"dataframe\">\n",
       "  <thead>\n",
       "    <tr style=\"text-align: right;\">\n",
       "      <th></th>\n",
       "      <th></th>\n",
       "      <th>VERSION</th>\n",
       "      <th>ACCEPT</th>\n",
       "      <th>ALIGN</th>\n",
       "      <th>CENTER</th>\n",
       "      <th>DEPICT</th>\n",
       "      <th>EXAMTP</th>\n",
       "      <th>EXPOSE</th>\n",
       "      <th>MOTION</th>\n",
       "      <th>POSITN</th>\n",
       "      <th>XNDREAS</th>\n",
       "      <th>XRBARCD</th>\n",
       "      <th>XRCOMP</th>\n",
       "      <th>XRDATE</th>\n",
       "      <th>XRSIDE</th>\n",
       "      <th>XRTECID</th>\n",
       "    </tr>\n",
       "    <tr>\n",
       "      <th>ID</th>\n",
       "      <th>Visit</th>\n",
       "      <th></th>\n",
       "      <th></th>\n",
       "      <th></th>\n",
       "      <th></th>\n",
       "      <th></th>\n",
       "      <th></th>\n",
       "      <th></th>\n",
       "      <th></th>\n",
       "      <th></th>\n",
       "      <th></th>\n",
       "      <th></th>\n",
       "      <th></th>\n",
       "      <th></th>\n",
       "      <th></th>\n",
       "      <th></th>\n",
       "    </tr>\n",
       "  </thead>\n",
       "  <tbody>\n",
       "    <tr>\n",
       "      <th>9414263</th>\n",
       "      <th>V10</th>\n",
       "      <td>10.2.2</td>\n",
       "      <td>NaN</td>\n",
       "      <td>' '  : Not QCd or meets QC standard</td>\n",
       "      <td>' '  : Not QCd or meets QC standard</td>\n",
       "      <td>' '  : Not QCd or meets QC standard</td>\n",
       "      <td>Bilateral PA Fixed Flexion Knee</td>\n",
       "      <td>' '  : Not QCd or meets QC standard</td>\n",
       "      <td>' '  : Not QCd or meets QC standard</td>\n",
       "      <td>' '  : Not QCd or meets QC standard</td>\n",
       "      <td>.A: Not Expected</td>\n",
       "      <td>03801401</td>\n",
       "      <td>1: Yes</td>\n",
       "      <td>2013-02-08</td>\n",
       "      <td>3: Bilateral</td>\n",
       "      <td>3087</td>\n",
       "    </tr>\n",
       "    <tr>\n",
       "      <th>9465131</th>\n",
       "      <th>V10</th>\n",
       "      <td>10.2.2</td>\n",
       "      <td>NaN</td>\n",
       "      <td>' '  : Not QCd or meets QC standard</td>\n",
       "      <td>' '  : Not QCd or meets QC standard</td>\n",
       "      <td>' '  : Not QCd or meets QC standard</td>\n",
       "      <td>Bilateral PA Fixed Flexion Knee</td>\n",
       "      <td>' '  : Not QCd or meets QC standard</td>\n",
       "      <td>' '  : Not QCd or meets QC standard</td>\n",
       "      <td>' '  : Not QCd or meets QC standard</td>\n",
       "      <td>.A: Not Expected</td>\n",
       "      <td>03996001</td>\n",
       "      <td>1: Yes</td>\n",
       "      <td>2013-02-01</td>\n",
       "      <td>3: Bilateral</td>\n",
       "      <td>3087</td>\n",
       "    </tr>\n",
       "    <tr>\n",
       "      <th>9639088</th>\n",
       "      <th>V10</th>\n",
       "      <td>10.2.2</td>\n",
       "      <td>NaN</td>\n",
       "      <td>' '  : Not QCd or meets QC standard</td>\n",
       "      <td>' '  : Not QCd or meets QC standard</td>\n",
       "      <td>' '  : Not QCd or meets QC standard</td>\n",
       "      <td>Bilateral PA Fixed Flexion Knee</td>\n",
       "      <td>' '  : Not QCd or meets QC standard</td>\n",
       "      <td>' '  : Not QCd or meets QC standard</td>\n",
       "      <td>' '  : Not QCd or meets QC standard</td>\n",
       "      <td>.A: Not Expected</td>\n",
       "      <td>03958801</td>\n",
       "      <td>1: Yes</td>\n",
       "      <td>2013-02-13</td>\n",
       "      <td>3: Bilateral</td>\n",
       "      <td>3129</td>\n",
       "    </tr>\n",
       "    <tr>\n",
       "      <th>9649566</th>\n",
       "      <th>V10</th>\n",
       "      <td>10.2.2</td>\n",
       "      <td>NaN</td>\n",
       "      <td>' '  : Not QCd or meets QC standard</td>\n",
       "      <td>' '  : Not QCd or meets QC standard</td>\n",
       "      <td>' '  : Not QCd or meets QC standard</td>\n",
       "      <td>Bilateral PA Fixed Flexion Knee</td>\n",
       "      <td>' '  : Not QCd or meets QC standard</td>\n",
       "      <td>' '  : Not QCd or meets QC standard</td>\n",
       "      <td>' '  : Not QCd or meets QC standard</td>\n",
       "      <td>.A: Not Expected</td>\n",
       "      <td>03800801</td>\n",
       "      <td>1: Yes</td>\n",
       "      <td>2013-02-06</td>\n",
       "      <td>3: Bilateral</td>\n",
       "      <td>3080</td>\n",
       "    </tr>\n",
       "  </tbody>\n",
       "</table>\n",
       "</div>"
      ],
      "text/plain": [
       "              VERSION ACCEPT                                ALIGN  \\\n",
       "ID      Visit                                                       \n",
       "9414263 V10    10.2.2    NaN  ' '  : Not QCd or meets QC standard   \n",
       "9465131 V10    10.2.2    NaN  ' '  : Not QCd or meets QC standard   \n",
       "9639088 V10    10.2.2    NaN  ' '  : Not QCd or meets QC standard   \n",
       "9649566 V10    10.2.2    NaN  ' '  : Not QCd or meets QC standard   \n",
       "\n",
       "                                            CENTER  \\\n",
       "ID      Visit                                        \n",
       "9414263 V10    ' '  : Not QCd or meets QC standard   \n",
       "9465131 V10    ' '  : Not QCd or meets QC standard   \n",
       "9639088 V10    ' '  : Not QCd or meets QC standard   \n",
       "9649566 V10    ' '  : Not QCd or meets QC standard   \n",
       "\n",
       "                                            DEPICT  \\\n",
       "ID      Visit                                        \n",
       "9414263 V10    ' '  : Not QCd or meets QC standard   \n",
       "9465131 V10    ' '  : Not QCd or meets QC standard   \n",
       "9639088 V10    ' '  : Not QCd or meets QC standard   \n",
       "9649566 V10    ' '  : Not QCd or meets QC standard   \n",
       "\n",
       "                                        EXAMTP  \\\n",
       "ID      Visit                                    \n",
       "9414263 V10    Bilateral PA Fixed Flexion Knee   \n",
       "9465131 V10    Bilateral PA Fixed Flexion Knee   \n",
       "9639088 V10    Bilateral PA Fixed Flexion Knee   \n",
       "9649566 V10    Bilateral PA Fixed Flexion Knee   \n",
       "\n",
       "                                            EXPOSE  \\\n",
       "ID      Visit                                        \n",
       "9414263 V10    ' '  : Not QCd or meets QC standard   \n",
       "9465131 V10    ' '  : Not QCd or meets QC standard   \n",
       "9639088 V10    ' '  : Not QCd or meets QC standard   \n",
       "9649566 V10    ' '  : Not QCd or meets QC standard   \n",
       "\n",
       "                                            MOTION  \\\n",
       "ID      Visit                                        \n",
       "9414263 V10    ' '  : Not QCd or meets QC standard   \n",
       "9465131 V10    ' '  : Not QCd or meets QC standard   \n",
       "9639088 V10    ' '  : Not QCd or meets QC standard   \n",
       "9649566 V10    ' '  : Not QCd or meets QC standard   \n",
       "\n",
       "                                            POSITN           XNDREAS  \\\n",
       "ID      Visit                                                          \n",
       "9414263 V10    ' '  : Not QCd or meets QC standard  .A: Not Expected   \n",
       "9465131 V10    ' '  : Not QCd or meets QC standard  .A: Not Expected   \n",
       "9639088 V10    ' '  : Not QCd or meets QC standard  .A: Not Expected   \n",
       "9649566 V10    ' '  : Not QCd or meets QC standard  .A: Not Expected   \n",
       "\n",
       "                XRBARCD  XRCOMP     XRDATE        XRSIDE XRTECID  \n",
       "ID      Visit                                                     \n",
       "9414263 V10    03801401  1: Yes 2013-02-08  3: Bilateral    3087  \n",
       "9465131 V10    03996001  1: Yes 2013-02-01  3: Bilateral    3087  \n",
       "9639088 V10    03958801  1: Yes 2013-02-13  3: Bilateral    3129  \n",
       "9649566 V10    03800801  1: Yes 2013-02-06  3: Bilateral    3080  "
      ]
     },
     "execution_count": 11,
     "metadata": {},
     "output_type": "execute_result"
    }
   ],
   "source": [
    "# What's the deal with NaNs?\n",
    "xr_df[xr_df['ACCEPT'].isna()]"
   ]
  },
  {
   "cell_type": "code",
   "execution_count": 12,
   "id": "59418c2d-0746-42ab-8743-fb49928d3320",
   "metadata": {
    "execution": {
     "iopub.execute_input": "2023-11-30T17:04:52.591815Z",
     "iopub.status.busy": "2023-11-30T17:04:52.591360Z",
     "iopub.status.idle": "2023-11-30T17:04:52.608086Z",
     "shell.execute_reply": "2023-11-30T17:04:52.607374Z",
     "shell.execute_reply.started": "2023-11-30T17:04:52.591790Z"
    },
    "tags": []
   },
   "outputs": [
    {
     "data": {
      "text/html": [
       "<div>\n",
       "<style scoped>\n",
       "    .dataframe tbody tr th:only-of-type {\n",
       "        vertical-align: middle;\n",
       "    }\n",
       "\n",
       "    .dataframe tbody tr th {\n",
       "        vertical-align: top;\n",
       "    }\n",
       "\n",
       "    .dataframe thead th {\n",
       "        text-align: right;\n",
       "    }\n",
       "</style>\n",
       "<table border=\"1\" class=\"dataframe\">\n",
       "  <thead>\n",
       "    <tr style=\"text-align: right;\">\n",
       "      <th></th>\n",
       "      <th></th>\n",
       "      <th>VERSION</th>\n",
       "      <th>ACCEPT</th>\n",
       "      <th>ALIGN</th>\n",
       "      <th>CENTER</th>\n",
       "      <th>DEPICT</th>\n",
       "      <th>EXAMTP</th>\n",
       "      <th>EXPOSE</th>\n",
       "      <th>MOTION</th>\n",
       "      <th>POSITN</th>\n",
       "      <th>XNDREAS</th>\n",
       "      <th>XRBARCD</th>\n",
       "      <th>XRCOMP</th>\n",
       "      <th>XRDATE</th>\n",
       "      <th>XRSIDE</th>\n",
       "      <th>XRTECID</th>\n",
       "    </tr>\n",
       "    <tr>\n",
       "      <th>ID</th>\n",
       "      <th>Visit</th>\n",
       "      <th></th>\n",
       "      <th></th>\n",
       "      <th></th>\n",
       "      <th></th>\n",
       "      <th></th>\n",
       "      <th></th>\n",
       "      <th></th>\n",
       "      <th></th>\n",
       "      <th></th>\n",
       "      <th></th>\n",
       "      <th></th>\n",
       "      <th></th>\n",
       "      <th></th>\n",
       "      <th></th>\n",
       "      <th></th>\n",
       "    </tr>\n",
       "  </thead>\n",
       "  <tbody>\n",
       "    <tr>\n",
       "      <th>9803586</th>\n",
       "      <th>V01</th>\n",
       "      <td>1.2.2</td>\n",
       "      <td>'NA': QCd unacceptable, no better available</td>\n",
       "      <td>'X': Does not meet QC standard</td>\n",
       "      <td>' '  : Not QCd or meets QC standard</td>\n",
       "      <td>' '  : Not QCd or meets QC standard</td>\n",
       "      <td>Bilateral PA Fixed Flexion Knee</td>\n",
       "      <td>' '  : Not QCd or meets QC standard</td>\n",
       "      <td>' '  : Not QCd or meets QC standard</td>\n",
       "      <td>' '  : Not QCd or meets QC standard</td>\n",
       "      <td>.A: Not Expected</td>\n",
       "      <td>01631304</td>\n",
       "      <td>1: Yes</td>\n",
       "      <td>2006-04-21</td>\n",
       "      <td>3: Bilateral</td>\n",
       "      <td>E008</td>\n",
       "    </tr>\n",
       "    <tr>\n",
       "      <th>9932578</th>\n",
       "      <th>V01</th>\n",
       "      <td>1.2.2</td>\n",
       "      <td>'NA': QCd unacceptable, no better available</td>\n",
       "      <td>' '  : Not QCd or meets QC standard</td>\n",
       "      <td>' '  : Not QCd or meets QC standard</td>\n",
       "      <td>' '  : Not QCd or meets QC standard</td>\n",
       "      <td>Bilateral PA Fixed Flexion Knee</td>\n",
       "      <td>' '  : Not QCd or meets QC standard</td>\n",
       "      <td>' '  : Not QCd or meets QC standard</td>\n",
       "      <td>' '  : Not QCd or meets QC standard</td>\n",
       "      <td>.A: Not Expected</td>\n",
       "      <td>01644104</td>\n",
       "      <td>1: Yes</td>\n",
       "      <td>2006-04-20</td>\n",
       "      <td>3: Bilateral</td>\n",
       "      <td>E008</td>\n",
       "    </tr>\n",
       "  </tbody>\n",
       "</table>\n",
       "</div>"
      ],
      "text/plain": [
       "              VERSION                                       ACCEPT  \\\n",
       "ID      Visit                                                        \n",
       "9803586 V01     1.2.2  'NA': QCd unacceptable, no better available   \n",
       "9932578 V01     1.2.2  'NA': QCd unacceptable, no better available   \n",
       "\n",
       "                                             ALIGN  \\\n",
       "ID      Visit                                        \n",
       "9803586 V01         'X': Does not meet QC standard   \n",
       "9932578 V01    ' '  : Not QCd or meets QC standard   \n",
       "\n",
       "                                            CENTER  \\\n",
       "ID      Visit                                        \n",
       "9803586 V01    ' '  : Not QCd or meets QC standard   \n",
       "9932578 V01    ' '  : Not QCd or meets QC standard   \n",
       "\n",
       "                                            DEPICT  \\\n",
       "ID      Visit                                        \n",
       "9803586 V01    ' '  : Not QCd or meets QC standard   \n",
       "9932578 V01    ' '  : Not QCd or meets QC standard   \n",
       "\n",
       "                                        EXAMTP  \\\n",
       "ID      Visit                                    \n",
       "9803586 V01    Bilateral PA Fixed Flexion Knee   \n",
       "9932578 V01    Bilateral PA Fixed Flexion Knee   \n",
       "\n",
       "                                            EXPOSE  \\\n",
       "ID      Visit                                        \n",
       "9803586 V01    ' '  : Not QCd or meets QC standard   \n",
       "9932578 V01    ' '  : Not QCd or meets QC standard   \n",
       "\n",
       "                                            MOTION  \\\n",
       "ID      Visit                                        \n",
       "9803586 V01    ' '  : Not QCd or meets QC standard   \n",
       "9932578 V01    ' '  : Not QCd or meets QC standard   \n",
       "\n",
       "                                            POSITN           XNDREAS  \\\n",
       "ID      Visit                                                          \n",
       "9803586 V01    ' '  : Not QCd or meets QC standard  .A: Not Expected   \n",
       "9932578 V01    ' '  : Not QCd or meets QC standard  .A: Not Expected   \n",
       "\n",
       "                XRBARCD  XRCOMP     XRDATE        XRSIDE XRTECID  \n",
       "ID      Visit                                                     \n",
       "9803586 V01    01631304  1: Yes 2006-04-21  3: Bilateral    E008  \n",
       "9932578 V01    01644104  1: Yes 2006-04-20  3: Bilateral    E008  "
      ]
     },
     "execution_count": 12,
     "metadata": {},
     "output_type": "execute_result"
    }
   ],
   "source": [
    "# What about the NAs?\n",
    "xr_df[xr_df['ACCEPT'] == \"'NA': QCd unacceptable, no better available\"]"
   ]
  },
  {
   "cell_type": "markdown",
   "id": "bbfefe29-6fe3-44b8-bd77-2d52d9ffb10a",
   "metadata": {},
   "source": [
    "# Create the final dataframe"
   ]
  },
  {
   "cell_type": "code",
   "execution_count": 13,
   "id": "8fb1589d-032f-4680-9091-349b4c014443",
   "metadata": {
    "execution": {
     "iopub.execute_input": "2023-11-30T17:04:52.612670Z",
     "iopub.status.busy": "2023-11-30T17:04:52.612379Z",
     "iopub.status.idle": "2023-11-30T17:04:52.896029Z",
     "shell.execute_reply": "2023-11-30T17:04:52.895345Z",
     "shell.execute_reply.started": "2023-11-30T17:04:52.612649Z"
    },
    "tags": []
   },
   "outputs": [
    {
     "name": "stdout",
     "output_type": "stream",
     "text": [
      "4,654\n",
      "4,791\n",
      "4,650\n"
     ]
    }
   ],
   "source": [
    "no_answer = ['.E: Non-Exposed Control', '.R: Refused', '.A: Not Expected', '.M: Missing']\n",
    "\n",
    "# Drop rows without useable info\n",
    "allclinical_df = allclinical_df[~allclinical_df[food_var].isna()]\n",
    "allclinical_df = allclinical_df[~allclinical_df[food_var].isin(no_answer)]\n",
    "print('{:,}'.format(len(allclinical_df)))\n",
    "\n",
    "no_answer = ['.R: Refused', '.D: Don t Know/Unknown/Uncertain']\n",
    "enrollees_df = enrollees_df[~enrollees_df['RACE'].isna()]\n",
    "enrollees_df = enrollees_df[~enrollees_df['RACE'].isin(no_answer)]\n",
    "print('{:,}'.format(len(enrollees_df)))\n",
    "\n",
    "cohort = set(allclinical_df.index.get_level_values('ID')) & set(enrollees_df.index)\n",
    "print('{:,}'.format(len(cohort)))\n",
    "\n",
    "enrollees_df = enrollees_df.loc[list(cohort)]\n",
    "allclinical_df = allclinical_df.loc[list(cohort)]"
   ]
  },
  {
   "cell_type": "code",
   "execution_count": 14,
   "id": "3b309a76-9987-46b4-8e0b-78b94e56aa3d",
   "metadata": {
    "execution": {
     "iopub.execute_input": "2023-11-30T17:04:52.897820Z",
     "iopub.status.busy": "2023-11-30T17:04:52.897397Z",
     "iopub.status.idle": "2023-11-30T17:04:52.970455Z",
     "shell.execute_reply": "2023-11-30T17:04:52.969616Z",
     "shell.execute_reply.started": "2023-11-30T17:04:52.897803Z"
    },
    "tags": []
   },
   "outputs": [
    {
     "name": "stdout",
     "output_type": "stream",
     "text": [
      "26,520\n",
      "25,743\n",
      "4,648\n"
     ]
    }
   ],
   "source": [
    "barcode_site_id_df = pd.DataFrame(xr_df['XRBARCD'].reset_index('Visit'))\n",
    "print('{:,}'.format(len(barcode_site_id_df)))\n",
    "\n",
    "# Result= XRBARCD: ID, Visit, SITE, RACE, food_var, '(0008, 1090) Manufacturer's Model Name', '(0012, 0030) Clinical Trial Site ID', ....\n",
    "barcode_site_id_df = barcode_site_id_df.join(allclinical_df[food_var].reset_index('Visit', drop=True), how='inner')\n",
    "barcode_site_id_df = barcode_site_id_df.join(enrollees_df[['SITE', 'RACE']], how='inner')  # Add hospital site and patient race\n",
    "barcode_site_id_df = barcode_site_id_df.reset_index('ID').set_index('XRBARCD')  # Switch to index by barcode\n",
    "barcode_site_id_df = barcode_site_id_df.join(metadata_df[VARIABLES_OF_INTEREST]) # Add Mfg model, and Clinical Site ID (xray machine location)\n",
    "print('{:,}'.format(len(barcode_site_id_df)))  # Sanity check, the joins shouldn't be increase the number of entries\n",
    "print('{:,}'.format(len(barcode_site_id_df['ID'].unique())))"
   ]
  },
  {
   "cell_type": "code",
   "execution_count": 15,
   "id": "d27c6797-8d85-499b-bbe3-4898999b847e",
   "metadata": {
    "execution": {
     "iopub.execute_input": "2023-11-30T17:04:52.972039Z",
     "iopub.status.busy": "2023-11-30T17:04:52.971580Z",
     "iopub.status.idle": "2023-11-30T17:04:52.978438Z",
     "shell.execute_reply": "2023-11-30T17:04:52.977514Z",
     "shell.execute_reply.started": "2023-11-30T17:04:52.972011Z"
    },
    "tags": []
   },
   "outputs": [],
   "source": [
    "# Simplify column names\n",
    "barcode_site_id_df = barcode_site_id_df.rename({'(0008, 0070) Manufacturer': 'MFG',\n",
    "                           \"(0008, 1090) Manufacturer's Model Name\": 'MODEL', \n",
    "                           '(0012, 0030) Clinical Trial Site ID': 'XRAY SITE',\n",
    "                           '(0018, 1000) Device Serial Number': 'SERIAL'}, axis=1)"
   ]
  },
  {
   "cell_type": "code",
   "execution_count": 16,
   "id": "64a9f15e-9124-495a-bca9-e33e7f7914cc",
   "metadata": {
    "execution": {
     "iopub.execute_input": "2023-11-30T17:04:52.980177Z",
     "iopub.status.busy": "2023-11-30T17:04:52.979545Z",
     "iopub.status.idle": "2023-11-30T17:04:52.995455Z",
     "shell.execute_reply": "2023-11-30T17:04:52.994751Z",
     "shell.execute_reply.started": "2023-11-30T17:04:52.980148Z"
    },
    "tags": []
   },
   "outputs": [],
   "source": [
    "# Simplify class values\n",
    "for col in barcode_site_id_df.select_dtypes(include=['category']).columns:\n",
    "    barcode_site_id_df[col] = barcode_site_id_df[col].cat.remove_unused_categories()\n",
    "    \n",
    "barcode_site_id_df[food_var] = barcode_site_id_df[food_var].cat.rename_categories({\n",
    "    '1: Never' : 1,\n",
    "    '2: A few times per year' : 2,\n",
    "    '3: Once per month' : 3,\n",
    "    '4: 2-3 times per month' : 4,\n",
    "    '5: Once per week' : 5,\n",
    "    '6: Twice per week' : 6,\n",
    "    '7: 3-4 times per week' : 7,\n",
    "    '8: 5-6 times per week' : 8,\n",
    "    '9: Every day':9 })\n",
    "\n",
    "barcode_site_id_df['RACE'] = barcode_site_id_df['RACE'].cat.rename_categories({\n",
    "    '0: Other Non-white' : 'O',\n",
    "    '1: White or Caucasian' : 'W',\n",
    "    '2: Black or African American' : 'B',\n",
    "    '3: Asian' : 'A' })"
   ]
  },
  {
   "cell_type": "code",
   "execution_count": 23,
   "id": "27fa29cb-c875-44da-bca3-aa153ff3061c",
   "metadata": {
    "execution": {
     "iopub.execute_input": "2023-12-01T20:53:05.495257Z",
     "iopub.status.busy": "2023-12-01T20:53:05.494952Z",
     "iopub.status.idle": "2023-12-01T20:53:05.517003Z",
     "shell.execute_reply": "2023-12-01T20:53:05.515915Z",
     "shell.execute_reply.started": "2023-12-01T20:53:05.495235Z"
    },
    "tags": []
   },
   "outputs": [
    {
     "data": {
      "text/html": [
       "<div>\n",
       "<style scoped>\n",
       "    .dataframe tbody tr th:only-of-type {\n",
       "        vertical-align: middle;\n",
       "    }\n",
       "\n",
       "    .dataframe tbody tr th {\n",
       "        vertical-align: top;\n",
       "    }\n",
       "\n",
       "    .dataframe thead th {\n",
       "        text-align: right;\n",
       "    }\n",
       "</style>\n",
       "<table border=\"1\" class=\"dataframe\">\n",
       "  <thead>\n",
       "    <tr style=\"text-align: right;\">\n",
       "      <th></th>\n",
       "      <th>ID</th>\n",
       "      <th>Visit</th>\n",
       "      <th>FFQ18</th>\n",
       "      <th>SITE</th>\n",
       "      <th>RACE</th>\n",
       "      <th>MFG</th>\n",
       "      <th>MODEL</th>\n",
       "      <th>XRAY SITE</th>\n",
       "      <th>SERIAL</th>\n",
       "    </tr>\n",
       "    <tr>\n",
       "      <th>XRBARCD</th>\n",
       "      <th></th>\n",
       "      <th></th>\n",
       "      <th></th>\n",
       "      <th></th>\n",
       "      <th></th>\n",
       "      <th></th>\n",
       "      <th></th>\n",
       "      <th></th>\n",
       "      <th></th>\n",
       "    </tr>\n",
       "  </thead>\n",
       "  <tbody>\n",
       "    <tr>\n",
       "      <th>00839603</th>\n",
       "      <td>9000099</td>\n",
       "      <td>V00</td>\n",
       "      <td>1</td>\n",
       "      <td>B</td>\n",
       "      <td>W</td>\n",
       "      <td>NaN</td>\n",
       "      <td>NaN</td>\n",
       "      <td>10</td>\n",
       "      <td>NaN</td>\n",
       "    </tr>\n",
       "    <tr>\n",
       "      <th>01653203</th>\n",
       "      <td>9000099</td>\n",
       "      <td>V01</td>\n",
       "      <td>1</td>\n",
       "      <td>B</td>\n",
       "      <td>W</td>\n",
       "      <td>LS100</td>\n",
       "      <td>Lumisys</td>\n",
       "      <td>10</td>\n",
       "      <td>NaN</td>\n",
       "    </tr>\n",
       "    <tr>\n",
       "      <th>02249203</th>\n",
       "      <td>9000099</td>\n",
       "      <td>V03</td>\n",
       "      <td>1</td>\n",
       "      <td>B</td>\n",
       "      <td>W</td>\n",
       "      <td>NaN</td>\n",
       "      <td>NaN</td>\n",
       "      <td>10</td>\n",
       "      <td>NaN</td>\n",
       "    </tr>\n",
       "    <tr>\n",
       "      <th>02722403</th>\n",
       "      <td>9000099</td>\n",
       "      <td>V05</td>\n",
       "      <td>1</td>\n",
       "      <td>B</td>\n",
       "      <td>W</td>\n",
       "      <td>NaN</td>\n",
       "      <td>NaN</td>\n",
       "      <td>10</td>\n",
       "      <td>NaN</td>\n",
       "    </tr>\n",
       "    <tr>\n",
       "      <th>03279101</th>\n",
       "      <td>9000099</td>\n",
       "      <td>V06</td>\n",
       "      <td>1</td>\n",
       "      <td>B</td>\n",
       "      <td>W</td>\n",
       "      <td>FUJIFILM Corporation</td>\n",
       "      <td>NaN</td>\n",
       "      <td>10</td>\n",
       "      <td>NaN</td>\n",
       "    </tr>\n",
       "    <tr>\n",
       "      <th>...</th>\n",
       "      <td>...</td>\n",
       "      <td>...</td>\n",
       "      <td>...</td>\n",
       "      <td>...</td>\n",
       "      <td>...</td>\n",
       "      <td>...</td>\n",
       "      <td>...</td>\n",
       "      <td>...</td>\n",
       "      <td>...</td>\n",
       "    </tr>\n",
       "    <tr>\n",
       "      <th>01317504</th>\n",
       "      <td>9999878</td>\n",
       "      <td>V01</td>\n",
       "      <td>3</td>\n",
       "      <td>C</td>\n",
       "      <td>W</td>\n",
       "      <td>Agfa-Gevaert AG</td>\n",
       "      <td>ADC_5146</td>\n",
       "      <td>46</td>\n",
       "      <td>2205</td>\n",
       "    </tr>\n",
       "    <tr>\n",
       "      <th>02438501</th>\n",
       "      <td>9999878</td>\n",
       "      <td>V05</td>\n",
       "      <td>3</td>\n",
       "      <td>C</td>\n",
       "      <td>W</td>\n",
       "      <td>\"GE Healthcare\"</td>\n",
       "      <td>\"Definium 5000\"</td>\n",
       "      <td>46</td>\n",
       "      <td>NaN</td>\n",
       "    </tr>\n",
       "    <tr>\n",
       "      <th>03071301</th>\n",
       "      <td>9999878</td>\n",
       "      <td>V06</td>\n",
       "      <td>3</td>\n",
       "      <td>C</td>\n",
       "      <td>W</td>\n",
       "      <td>\"GE Healthcare\"</td>\n",
       "      <td>\"Definium 5000\"</td>\n",
       "      <td>46</td>\n",
       "      <td>NaN</td>\n",
       "    </tr>\n",
       "    <tr>\n",
       "      <th>03526101</th>\n",
       "      <td>9999878</td>\n",
       "      <td>V08</td>\n",
       "      <td>3</td>\n",
       "      <td>C</td>\n",
       "      <td>W</td>\n",
       "      <td>\"GE Healthcare\"</td>\n",
       "      <td>\"Definium 5000\"</td>\n",
       "      <td>46</td>\n",
       "      <td>NaN</td>\n",
       "    </tr>\n",
       "    <tr>\n",
       "      <th>03983201</th>\n",
       "      <td>9999878</td>\n",
       "      <td>V10</td>\n",
       "      <td>3</td>\n",
       "      <td>C</td>\n",
       "      <td>W</td>\n",
       "      <td>\"GE Healthcare\"</td>\n",
       "      <td>\"Definium 5000\"</td>\n",
       "      <td>46</td>\n",
       "      <td>NaN</td>\n",
       "    </tr>\n",
       "  </tbody>\n",
       "</table>\n",
       "<p>25743 rows × 9 columns</p>\n",
       "</div>"
      ],
      "text/plain": [
       "               ID Visit FFQ18 SITE RACE                   MFG  \\\n",
       "XRBARCD                                                         \n",
       "00839603  9000099   V00     1    B    W                   NaN   \n",
       "01653203  9000099   V01     1    B    W                 LS100   \n",
       "02249203  9000099   V03     1    B    W                   NaN   \n",
       "02722403  9000099   V05     1    B    W                   NaN   \n",
       "03279101  9000099   V06     1    B    W  FUJIFILM Corporation   \n",
       "...           ...   ...   ...  ...  ...                   ...   \n",
       "01317504  9999878   V01     3    C    W       Agfa-Gevaert AG   \n",
       "02438501  9999878   V05     3    C    W       \"GE Healthcare\"   \n",
       "03071301  9999878   V06     3    C    W       \"GE Healthcare\"   \n",
       "03526101  9999878   V08     3    C    W       \"GE Healthcare\"   \n",
       "03983201  9999878   V10     3    C    W       \"GE Healthcare\"   \n",
       "\n",
       "                    MODEL XRAY SITE SERIAL  \n",
       "XRBARCD                                     \n",
       "00839603              NaN        10    NaN  \n",
       "01653203          Lumisys        10    NaN  \n",
       "02249203              NaN        10    NaN  \n",
       "02722403              NaN        10    NaN  \n",
       "03279101              NaN        10    NaN  \n",
       "...                   ...       ...    ...  \n",
       "01317504         ADC_5146        46   2205  \n",
       "02438501  \"Definium 5000\"        46    NaN  \n",
       "03071301  \"Definium 5000\"        46    NaN  \n",
       "03526101  \"Definium 5000\"        46    NaN  \n",
       "03983201  \"Definium 5000\"        46    NaN  \n",
       "\n",
       "[25743 rows x 9 columns]"
      ]
     },
     "execution_count": 23,
     "metadata": {},
     "output_type": "execute_result"
    }
   ],
   "source": [
    "barcode_site_id_df"
   ]
  },
  {
   "cell_type": "markdown",
   "id": "9c222c7e-34b4-4e37-bd87-02535c6eaf53",
   "metadata": {},
   "source": [
    "# Write to Parquet"
   ]
  },
  {
   "cell_type": "code",
   "execution_count": 18,
   "id": "2c3f36d3-fade-4d83-9f66-f6cd4e102c22",
   "metadata": {
    "execution": {
     "iopub.execute_input": "2023-11-30T17:04:53.013498Z",
     "iopub.status.busy": "2023-11-30T17:04:53.013192Z",
     "iopub.status.idle": "2023-11-30T17:04:53.038973Z",
     "shell.execute_reply": "2023-11-30T17:04:53.038226Z",
     "shell.execute_reply.started": "2023-11-30T17:04:53.013477Z"
    },
    "tags": []
   },
   "outputs": [],
   "source": [
    "table = pa.Table.from_pandas(barcode_site_id_df)\n",
    "pq.write_table(table, 'xray_shortcutting_labels.parquet')"
   ]
  },
  {
   "cell_type": "code",
   "execution_count": 19,
   "id": "bbf906dd-4563-4569-bf7d-fb485e22d826",
   "metadata": {
    "execution": {
     "iopub.execute_input": "2023-11-30T17:04:53.040370Z",
     "iopub.status.busy": "2023-11-30T17:04:53.039909Z",
     "iopub.status.idle": "2023-11-30T17:04:53.071976Z",
     "shell.execute_reply": "2023-11-30T17:04:53.071215Z",
     "shell.execute_reply.started": "2023-11-30T17:04:53.040345Z"
    },
    "tags": []
   },
   "outputs": [],
   "source": [
    "df_test_read = pd.read_parquet('xray_shortcutting_labels.parquet')"
   ]
  }
 ],
 "metadata": {
  "kernelspec": {
   "display_name": "Python 3 (ipykernel)",
   "language": "python",
   "name": "python3"
  },
  "language_info": {
   "codemirror_mode": {
    "name": "ipython",
    "version": 3
   },
   "file_extension": ".py",
   "mimetype": "text/x-python",
   "name": "python",
   "nbconvert_exporter": "python",
   "pygments_lexer": "ipython3",
   "version": "3.9.6"
  }
 },
 "nbformat": 4,
 "nbformat_minor": 5
}
