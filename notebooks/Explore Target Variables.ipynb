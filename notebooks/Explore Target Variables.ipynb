{
 "cells": [
  {
   "cell_type": "markdown",
   "id": "5bab14b0-620b-4509-adc5-581cdf8d7b01",
   "metadata": {},
   "source": [
    "# Look for interesting targets to show bias with\n",
    "\n",
    "The paper goal is to show how a clearly unrelated variable can be predicted by an X-ray when the CNN can detect the site location within the X-ray.\n",
    "\n",
    "This notebook looks at fun and absurd variables to consider.\n",
    "\n",
    "The questions being looked at are all multiple choice in their answers. The food questions are even ordinal. Yet the majority of research out there is using binary thresholds. This is a bit of cheat. An algorithm that randomly guesses already has an AUC of 50%. Thus papers that report an AUC of 60+% isn't saying much. It is able to detect a minor pattern beyond guessing. That could be statistical noise. To show this, we will play the same game. Thus we must find thresholds to binarize by that will tell a good story."
   ]
  },
  {
   "cell_type": "markdown",
   "id": "0dc97ad4-8ab7-4c40-89f6-c2455da41eb9",
   "metadata": {},
   "source": [
    "See TakeHomeQuestionnaire.pdf for the actual food questions"
   ]
  },
  {
   "cell_type": "markdown",
   "id": "56c12c09-a6cf-499f-af9d-ec239af79cca",
   "metadata": {},
   "source": [
    "# Imports"
   ]
  },
  {
   "cell_type": "code",
   "execution_count": 1,
   "id": "c4312c6b-989d-4c80-8580-21f643a65c91",
   "metadata": {
    "execution": {
     "iopub.execute_input": "2023-11-30T16:45:08.315240Z",
     "iopub.status.busy": "2023-11-30T16:45:08.314861Z",
     "iopub.status.idle": "2023-11-30T16:45:09.219796Z",
     "shell.execute_reply": "2023-11-30T16:45:09.218668Z",
     "shell.execute_reply.started": "2023-11-30T16:45:08.315213Z"
    },
    "tags": []
   },
   "outputs": [],
   "source": [
    "import numpy as np\n",
    "import os\n",
    "import pandas as pd\n",
    "import pickle\n",
    "from sklearn.metrics import roc_auc_score"
   ]
  },
  {
   "cell_type": "markdown",
   "id": "5679cba4-1afe-4701-a423-faff46c8715d",
   "metadata": {},
   "source": [
    "# Constants"
   ]
  },
  {
   "cell_type": "code",
   "execution_count": 2,
   "id": "1f32f11a-775b-4834-9c4a-b5cf3facdd05",
   "metadata": {
    "execution": {
     "iopub.execute_input": "2023-11-30T16:45:09.221631Z",
     "iopub.status.busy": "2023-11-30T16:45:09.220941Z",
     "iopub.status.idle": "2023-11-30T16:45:09.224596Z",
     "shell.execute_reply": "2023-11-30T16:45:09.223891Z",
     "shell.execute_reply.started": "2023-11-30T16:45:09.221610Z"
    },
    "tags": []
   },
   "outputs": [],
   "source": [
    "OAI_PKL_PATH = '/Users/brandong.hill/code/OAI/notebooks/pkl/'\n",
    "idxSlc = pd.IndexSlice"
   ]
  },
  {
   "cell_type": "markdown",
   "id": "df413542-88f4-43ea-bb96-2811a8777dc6",
   "metadata": {},
   "source": [
    "# Read in data"
   ]
  },
  {
   "cell_type": "code",
   "execution_count": 3,
   "id": "840fafaa-32a1-4e8f-9b34-e599c672500a",
   "metadata": {
    "execution": {
     "iopub.execute_input": "2023-11-30T16:45:09.226221Z",
     "iopub.status.busy": "2023-11-30T16:45:09.225660Z",
     "iopub.status.idle": "2023-11-30T16:45:09.412144Z",
     "shell.execute_reply": "2023-11-30T16:45:09.411179Z",
     "shell.execute_reply.started": "2023-11-30T16:45:09.226199Z"
    },
    "tags": []
   },
   "outputs": [],
   "source": [
    "# Read in the dataframes for analysis \n",
    "allclinical_df = pd.read_pickle(open(os.path.join(OAI_PKL_PATH, 'allclinical_values.pkl'), 'rb' ))\n",
    "\n",
    "xray_df = pd.read_pickle(open(os.path.join(OAI_PKL_PATH, 'xray_values.pkl'), 'rb' ))\n",
    "xray_df = xray_df[xray_df['XRBARCD'] != '']\n",
    "xray_df = xray_df[xray_df['EXAMTP'] == 'Bilateral PA Fixed Flexion Knee'] # Lets only consider xrays that we might use in the deep learning\n",
    "\n",
    "enrollees_df = pd.read_pickle(open(os.path.join(OAI_PKL_PATH, 'enrollees_values.pkl'), 'rb' ))\n",
    "\n",
    "# Used to map varibale descriptions to a variable name\n",
    "labels_df = pd.read_pickle(open(os.path.join(OAI_PKL_PATH, 'oai_vars_labels_sources.pkl'), 'rb' ))\n",
    "labels_df = labels_df.set_index('Variable')"
   ]
  },
  {
   "cell_type": "markdown",
   "id": "8e78e230-36e2-4905-b0da-1fda0b1bfa86",
   "metadata": {},
   "source": [
    "# Merge to a single frame"
   ]
  },
  {
   "cell_type": "code",
   "execution_count": 4,
   "id": "564caecf-70e7-4412-bbf1-f68d5e1515d2",
   "metadata": {
    "execution": {
     "iopub.execute_input": "2023-11-30T16:45:09.416917Z",
     "iopub.status.busy": "2023-11-30T16:45:09.416445Z",
     "iopub.status.idle": "2023-11-30T16:45:09.535792Z",
     "shell.execute_reply": "2023-11-30T16:45:09.535127Z",
     "shell.execute_reply.started": "2023-11-30T16:45:09.416876Z"
    },
    "tags": []
   },
   "outputs": [
    {
     "name": "stdout",
     "output_type": "stream",
     "text": [
      "26,522\n",
      "26,522\n"
     ]
    }
   ],
   "source": [
    "# Map of patient IDs to barcodes, also drop 4 extraneous digits in barcode\n",
    "# Result= ID: XRBARCD\n",
    "barcode_site_id_df = pd.DataFrame(xray_df['XRBARCD'].reset_index('Visit', drop=True).str[4:])\n",
    "print('{:,}'.format(len(barcode_site_id_df)))\n",
    "\n",
    "\n",
    "# Create a list of possible targets\n",
    "targets = ['INCOME', 'INCOME2', 'EDCV']\n",
    "\n",
    "# Add in food questions\n",
    "food_targets = ['FFQ' + str(num) for num in range(1,72)]\n",
    "targets.extend(food_targets)\n",
    "\n",
    "# Result= XRBARCD: ID, SITE, RACE, Visit, INCOME, INCOME2, EDCV, FFQ1, FFQ2, ....\n",
    "barcode_site_id_df = barcode_site_id_df.join(enrollees_df[['SITE', 'RACE']], how='left')  # Add hospital site and patient race\n",
    "barcode_site_id_df = barcode_site_id_df.join(allclinical_df.loc[idxSlc[:, 'V00'], :][targets].reset_index('Visit'), on='ID', how='left') # Add starting income and comborbidities\n",
    "barcode_site_id_df = barcode_site_id_df.reset_index('ID').set_index('XRBARCD')  # Switch to index by barcode\n",
    "print('{:,}'.format(len(barcode_site_id_df)))  # Sanity check, the joins shouldn't be increase the number of entries"
   ]
  },
  {
   "cell_type": "markdown",
   "id": "33117ff8-7154-46f7-b92b-2c527983172c",
   "metadata": {
    "execution": {
     "iopub.execute_input": "2023-10-12T16:04:22.704327Z",
     "iopub.status.busy": "2023-10-12T16:04:22.704055Z",
     "iopub.status.idle": "2023-10-12T16:04:22.708072Z",
     "shell.execute_reply": "2023-10-12T16:04:22.707277Z",
     "shell.execute_reply.started": "2023-10-12T16:04:22.704298Z"
    },
    "tags": []
   },
   "source": [
    "# Check for useability"
   ]
  },
  {
   "cell_type": "code",
   "execution_count": 17,
   "id": "f52e47d9-4dc7-4c8e-8f7f-860e25ef7a08",
   "metadata": {
    "execution": {
     "iopub.execute_input": "2023-11-30T16:50:59.152803Z",
     "iopub.status.busy": "2023-11-30T16:50:59.151918Z",
     "iopub.status.idle": "2023-11-30T16:50:59.167092Z",
     "shell.execute_reply": "2023-11-30T16:50:59.166326Z",
     "shell.execute_reply.started": "2023-11-30T16:50:59.152775Z"
    },
    "tags": []
   },
   "outputs": [],
   "source": [
    "def remove_unused_missing_categories(series):\n",
    "    # drop rows with categoricals that start with '.' (e.g. .Missing)\n",
    "    missing_cats = [cat for cat in series.cat.categories if not cat[0].isdigit()]\n",
    "    series = series[~series.isin(missing_cats)]\n",
    "    return series.cat.remove_unused_categories().copy(deep=True) \n",
    "\n",
    "# See if any binarization point leads to some but not all sites being over 50%\n",
    "# Returns the first binarization point where this is true\n",
    "def check_useability(df, var, label):\n",
    "    s = remove_unused_missing_categories(df[var])\n",
    "\n",
    "    df = pd.concat([df['SITE'], s], axis=1, join='inner')\n",
    "\n",
    "    # Get the percents by site (index: var values, cols: site names,\n",
    "    #                           val: percent of patients with that answer at that site)\n",
    "    var_by_site_df = df.groupby('SITE').value_counts(normalize=True).unstack('SITE')\n",
    "    var_by_site_df = var_by_site_df.sort_index()  # Critical to ensure answers are in ordinal order  \n",
    "\n",
    "    # Row by row, add the percentages of each row until one or more cols have over 50%\n",
    "    sums = pd.Series(0, index=var_by_site_df.columns)\n",
    "    for answer in var_by_site_df.index:  # Indices are question answers\n",
    "        row = var_by_site_df.loc[answer]\n",
    "        sums += row\n",
    "        num_over_half = (sums > 0.50).sum()\n",
    "        if num_over_half > 0:\n",
    "            break\n",
    "\n",
    "    if num_over_half == len(row):\n",
    "        # No combination of values gives some columns over 50% and others under\n",
    "        print(\"{}: {} doesn't work.\\n Min percentage is {:.1%} with answers of {} or lower\".format(var, label, sums.min(), answer))\n",
    "        return None\n",
    "    else:\n",
    "        print(\"{}: {}\\n With answers of {} or lower\\n{}\".format(var, label, answer, sums.apply(lambda x: '{:.1%}'.format(x))))\n",
    "        return (sums, len(s))\n",
    "    \n",
    "# The prior calculation stops as soon as any site has over 50% response. This allows us to get all combinations where at least one site is above 50% and at least one below\n",
    "def find_best_auc(df, var):\n",
    "    s = remove_unused_missing_categories(df[var])\n",
    "\n",
    "    df = pd.concat([df['SITE'], s], axis=1, join='inner')\n",
    "\n",
    "    # Get the percents by site (index: var values, cols: site names,\n",
    "    #                           val: percent of patients with that answer at that site)\n",
    "    var_by_site_df = df.groupby('SITE').value_counts(normalize=True).unstack('SITE')\n",
    "    var_by_site_df = var_by_site_df.sort_index()  # Critical to ensure answers are in ordinal order  \n",
    "\n",
    "    # Get per site counts\n",
    "    counts = df.groupby('SITE').value_counts().unstack('SITE').sum()\n",
    "\n",
    "    sums = pd.Series(0, index=var_by_site_df.columns)\n",
    "    aucs, idxs = [], []\n",
    "    # Indices are how often a person eats this food\n",
    "    for answer in var_by_site_df.index:\n",
    "        row = var_by_site_df.loc[answer]\n",
    "        sums += row\n",
    "        num_over_half = (sums > 0.50).sum()\n",
    "        if num_over_half == len(sums):  # All are over 50%, model would just always guess true for any site\n",
    "            break\n",
    "        elif num_over_half > 0:  # At least one site must have over a 50% response rate   \n",
    "            # Calc the AUCs\n",
    "            pos = (sums * counts).round().astype(int)\n",
    "            neg = (counts - pos).astype(int)\n",
    "            actual, pred = np.empty(0), np.empty(0)\n",
    "            for site in sums.index:\n",
    "                actual = np.append(actual, np.ones(pos[site]))\n",
    "                actual = np.append(actual, np.zeros(neg[site]))\n",
    "                pred = np.append(pred, np.ones(int(counts[site])) * sums[site])\n",
    "            aucs.append(roc_auc_score(actual, pred))\n",
    "            idxs.append(answer)\n",
    "    if aucs:\n",
    "        aucs = pd.Series(aucs, index=idxs)\n",
    "        return (aucs.max(), aucs.idxmax(), aucs, aucs.min())\n",
    "    else:\n",
    "        return None"
   ]
  },
  {
   "cell_type": "markdown",
   "id": "c3e6dc8c-153d-4056-a20b-f34c71de5dc3",
   "metadata": {},
   "source": [
    "## Income"
   ]
  },
  {
   "cell_type": "code",
   "execution_count": 6,
   "id": "2b90c04b-caf4-41c0-b720-e8cd62949f36",
   "metadata": {
    "execution": {
     "iopub.execute_input": "2023-11-30T16:45:09.552969Z",
     "iopub.status.busy": "2023-11-30T16:45:09.552579Z",
     "iopub.status.idle": "2023-11-30T16:45:09.581526Z",
     "shell.execute_reply": "2023-11-30T16:45:09.580875Z",
     "shell.execute_reply.started": "2023-11-30T16:45:09.552943Z"
    },
    "tags": []
   },
   "outputs": [
    {
     "name": "stdout",
     "output_type": "stream",
     "text": [
      "INCOME2: Yearly income (>50K or <50K) (calc) doesn't work.\n",
      " Min percentage is 100.0% with answers of 2: > $50K or lower\n"
     ]
    }
   ],
   "source": [
    "# Look at simplified income\n",
    "var = 'INCOME2'\n",
    "tmp = check_useability(barcode_site_id_df, var, labels_df.at['V00'+var, 'Label'])"
   ]
  },
  {
   "cell_type": "code",
   "execution_count": 7,
   "id": "7c937eb8-509f-4db5-908f-54fa52f685d2",
   "metadata": {
    "execution": {
     "iopub.execute_input": "2023-11-30T16:45:09.582522Z",
     "iopub.status.busy": "2023-11-30T16:45:09.582316Z",
     "iopub.status.idle": "2023-11-30T16:45:09.607529Z",
     "shell.execute_reply": "2023-11-30T16:45:09.606861Z",
     "shell.execute_reply.started": "2023-11-30T16:45:09.582502Z"
    },
    "tags": []
   },
   "outputs": [
    {
     "name": "stdout",
     "output_type": "stream",
     "text": [
      "INCOME: Yearly income (calc) doesn't work.\n",
      " Min percentage is 67.4% with answers of 4: $50K to < $100K or lower\n"
     ]
    }
   ],
   "source": [
    "# Look at more detailed income\n",
    "var = 'INCOME'\n",
    "tmp = check_useability(barcode_site_id_df, var, labels_df.at['V00'+var, 'Label'])"
   ]
  },
  {
   "cell_type": "markdown",
   "id": "85cfe52f-3eb4-47f5-a41a-eed80a029b49",
   "metadata": {},
   "source": [
    "## Education"
   ]
  },
  {
   "cell_type": "code",
   "execution_count": 8,
   "id": "7c64dabc-a432-4e5a-8ada-37535b96ca40",
   "metadata": {
    "execution": {
     "iopub.execute_input": "2023-11-30T16:45:09.609106Z",
     "iopub.status.busy": "2023-11-30T16:45:09.608749Z",
     "iopub.status.idle": "2023-11-30T16:45:09.634341Z",
     "shell.execute_reply": "2023-11-30T16:45:09.633624Z",
     "shell.execute_reply.started": "2023-11-30T16:45:09.609081Z"
    },
    "tags": []
   },
   "outputs": [
    {
     "name": "stdout",
     "output_type": "stream",
     "text": [
      "EDCV: Highest grade or year of school completed (calc)\n",
      " With answers of 2: Some college or lower\n",
      "SITE\n",
      "A    42.1%\n",
      "B    47.3%\n",
      "C    20.6%\n",
      "D    41.8%\n",
      "E    52.2%\n",
      "dtype: object\n"
     ]
    }
   ],
   "source": [
    "# Look at education\n",
    "var = 'EDCV'\n",
    "tmp = check_useability(barcode_site_id_df, var, labels_df.at['V00'+var, 'Label'])"
   ]
  },
  {
   "cell_type": "markdown",
   "id": "ef818079-d2bd-4b07-9346-7a7a66903913",
   "metadata": {},
   "source": [
    "## Food"
   ]
  },
  {
   "cell_type": "code",
   "execution_count": 9,
   "id": "396bb03c-6675-4d1e-a053-e92a2c275070",
   "metadata": {
    "collapsed": true,
    "execution": {
     "iopub.execute_input": "2023-11-30T16:45:09.635708Z",
     "iopub.status.busy": "2023-11-30T16:45:09.635407Z",
     "iopub.status.idle": "2023-11-30T16:45:10.896817Z",
     "shell.execute_reply": "2023-11-30T16:45:10.895792Z",
     "shell.execute_reply.started": "2023-11-30T16:45:09.635686Z"
    },
    "jupyter": {
     "outputs_hidden": true
    },
    "tags": []
   },
   "outputs": [
    {
     "name": "stdout",
     "output_type": "stream",
     "text": [
      "FFQ1:  eggs (include egg biscuits/Egg McMuffins (not egg substitutes)), eat how often, past 12 months\n",
      " With answers of 4: 2-3 times per month or lower\n",
      "SITE\n",
      "A    44.0%\n",
      "B    43.5%\n",
      "C    47.9%\n",
      "D    50.8%\n",
      "E    44.0%\n",
      "dtype: object\n",
      "\n",
      "\n",
      "FFQ2:  bacon/breakfast sausage (including sausage biscuit), eat how often, past 12 months\n",
      " With answers of 3: Once per month or lower\n",
      "SITE\n",
      "A    43.4%\n",
      "B    60.7%\n",
      "C    51.8%\n",
      "D    52.9%\n",
      "E    46.6%\n",
      "dtype: object\n",
      "\n",
      "\n",
      "FFQ3:  cooked cereals (e.g., oatmeal/cream of wheat/grits) eat how often, past 12 months\n",
      " With answers of 3: Once per month or lower\n",
      "SITE\n",
      "A    40.6%\n",
      "B    49.9%\n",
      "C    51.1%\n",
      "D    49.4%\n",
      "E    44.1%\n",
      "dtype: object\n",
      "\n",
      "\n",
      "FFQ4:  cold cereals (e.g., Corn Flakes/Cheerios...), eat how often, past 12 months\n",
      " With answers of 5: Once per week or lower\n",
      "SITE\n",
      "A    52.2%\n",
      "B    48.6%\n",
      "C    46.1%\n",
      "D    46.0%\n",
      "E    51.3%\n",
      "dtype: object\n",
      "\n",
      "\n",
      "FFQ5:  cereal, which eat most often doesn't work.\n",
      " Min percentage is 87.9% with answers of 3: Other cold cereal, like Corn Flakes etc or lower\n",
      "\n",
      "\n",
      "FFQ6:  cheese/sliced cheese/cheese spread (including on sandwiches), eat how often, past 12 months doesn't work.\n",
      " Min percentage is 56.0% with answers of 6: Twice per week or lower\n",
      "\n",
      "\n",
      "FFQ7:  yogurt (not frozen yogurt), eat how often, past 12 months\n",
      " With answers of 3: Once per month or lower\n",
      "SITE\n",
      "A    54.8%\n",
      "B    52.4%\n",
      "C    48.8%\n",
      "D    55.0%\n",
      "E    50.8%\n",
      "dtype: object\n",
      "\n",
      "\n",
      "FFQ8:  bananas, eat how often, past 12 months doesn't work.\n",
      " Min percentage is 50.3% with answers of 5: Once per week or lower\n",
      "\n",
      "\n",
      "FFQ9:  apples/pears, eat how often, past 12 months\n",
      " With answers of 4: 2-3 times per month or lower\n",
      "SITE\n",
      "A    47.0%\n",
      "B    51.2%\n",
      "C    44.4%\n",
      "D    47.5%\n",
      "E    48.8%\n",
      "dtype: object\n",
      "\n",
      "\n",
      "FFQ10:  oranges/tangerines (not including juice), eat how often, past 12 months doesn't work.\n",
      " Min percentage is 64.4% with answers of 4: 2-3 times per month or lower\n",
      "\n",
      "\n",
      "FFQ11:  applesauce/fruit cocktail/any canned fruit, eat how often, past 12 months doesn't work.\n",
      " Min percentage is 53.3% with answers of 3: Once per month or lower\n",
      "\n",
      "\n",
      "FFQ12:  any other fruit (e.g., grapes/melon/strawberries/peaches), eat how often, past 12 months\n",
      " With answers of 5: Once per week or lower\n",
      "SITE\n",
      "A    52.0%\n",
      "B    53.5%\n",
      "C    48.9%\n",
      "D    51.4%\n",
      "E    57.6%\n",
      "dtype: object\n",
      "\n",
      "\n",
      "FFQ13:  french fries/fried potatoes/hash browns, eat how often, past 12 months\n",
      " With answers of 3: Once per month or lower\n",
      "SITE\n",
      "A    52.1%\n",
      "B    55.6%\n",
      "C    47.6%\n",
      "D    53.1%\n",
      "E    51.0%\n",
      "dtype: object\n",
      "\n",
      "\n",
      "FFQ14:  white potatoes not fried (including boiled/baked/mashed/potato salad), eat how often, past 12 months\n",
      " With answers of 4: 2-3 times per month or lower\n",
      "SITE\n",
      "A    62.5%\n",
      "B    45.9%\n",
      "C    51.1%\n",
      "D    52.6%\n",
      "E    51.2%\n",
      "dtype: object\n",
      "\n",
      "\n",
      "FFQ15:  sweet potatoes/yams/sweet potato pie, eat how often, past 12 months\n",
      " With answers of 2: A few times per year or lower\n",
      "SITE\n",
      "A    43.9%\n",
      "B    56.1%\n",
      "C    57.2%\n",
      "D    55.2%\n",
      "E    46.7%\n",
      "dtype: object\n",
      "\n",
      "\n",
      "FFQ16:  rice/dishes made with rice, eat how often, past 12 months doesn't work.\n",
      " Min percentage is 56.5% with answers of 4: 2-3 times per month or lower\n",
      "\n",
      "\n",
      "FFQ17:  baked beans/chili with beans/pintos/any other dried beans, eat how often, during past 12 months\n",
      " With answers of 3: Once per month or lower\n",
      "SITE\n",
      "A    52.9%\n",
      "B    51.8%\n",
      "C    43.7%\n",
      "D    47.1%\n",
      "E    52.8%\n",
      "dtype: object\n",
      "\n",
      "\n",
      "FFQ18:  refried beans, eat how often, past 12 months\n",
      " With answers of 1: Never or lower\n",
      "SITE\n",
      "A    59.4%\n",
      "B    66.1%\n",
      "C    34.5%\n",
      "D    56.0%\n",
      "E    60.7%\n",
      "dtype: object\n",
      "\n",
      "\n",
      "FFQ19:  green beans/green peas, eat how often, past 12 months doesn't work.\n",
      " Min percentage is 62.8% with answers of 5: Once per week or lower\n",
      "\n",
      "\n",
      "FFQ20:  broccoli, eat how often, past 12 months doesn't work.\n",
      " Min percentage is 61.5% with answers of 5: Once per week or lower\n",
      "\n",
      "\n",
      "FFQ21:  carrots/stews or mixed vegetables containing carrots, eat how often, past 12 months\n",
      " With answers of 4: 2-3 times per month or lower\n",
      "SITE\n",
      "A    50.9%\n",
      "B    41.6%\n",
      "C    42.5%\n",
      "D    44.3%\n",
      "E    51.4%\n",
      "dtype: object\n",
      "\n",
      "\n",
      "FFQ22:  spinach/greens (e.g., collards), eat how often, past 12 months\n",
      " With answers of 3: Once per month or lower\n",
      "SITE\n",
      "A    27.4%\n",
      "B    42.9%\n",
      "C    52.2%\n",
      "D    48.0%\n",
      "E    30.5%\n",
      "dtype: object\n",
      "\n",
      "\n",
      "FFQ23:  cole slaw/cabbage, eat how often, past 12 months\n",
      " With answers of 3: Once per month or lower\n",
      "SITE\n",
      "A    49.4%\n",
      "B    68.4%\n",
      "C    56.0%\n",
      "D    57.1%\n",
      "E    55.5%\n",
      "dtype: object\n",
      "\n",
      "\n",
      "FFQ24:  green salad, eat how often, past 12 months\n",
      " With answers of 6: Twice per week or lower\n",
      "SITE\n",
      "A    55.7%\n",
      "B    45.2%\n",
      "C    45.2%\n",
      "D    46.4%\n",
      "E    62.7%\n",
      "dtype: object\n",
      "\n",
      "\n",
      "FFQ25:  raw tomatoes (including in salad), eat how often, past 12 months doesn't work.\n",
      " Min percentage is 52.2% with answers of 6: Twice per week or lower\n",
      "\n",
      "\n",
      "FFQ26:  catsup/salsa/chile peppers, eat how often, past 12 months doesn't work.\n",
      " Min percentage is 55.4% with answers of 4: 2-3 times per month or lower\n",
      "\n",
      "\n",
      "FFQ27:  salad dressing/mayonnaise (not lowfat), eat how often, past 12 months doesn't work.\n",
      " Min percentage is 51.1% with answers of 5: Once per week or lower\n",
      "\n",
      "\n",
      "FFQ28:  any other vegetable (e.g., corn/squash/okra…), eat how often, past 12 months\n",
      " With answers of 5: Once per week or lower\n",
      "SITE\n",
      "A    52.9%\n",
      "B    45.5%\n",
      "C    51.8%\n",
      "D    48.8%\n",
      "E    51.8%\n",
      "dtype: object\n",
      "\n",
      "\n",
      "FFQ29:  vegetable soup/vegetable beef, chicken vegetable or tomato soup, eat how often, past 12 months doesn't work.\n",
      " Min percentage is 66.7% with answers of 4: 2-3 times per month or lower\n",
      "\n",
      "\n",
      "FFQ30:  chicken/meat/fish, ever eat doesn't work.\n",
      " Min percentage is 100.0% with answers of 1: Yes or lower\n",
      "\n",
      "\n",
      "FFQ31:  hamburgers/cheeseburgers/meat loaf (at home or in restaurant), eat how often, past 12 months doesn't work.\n",
      " Min percentage is 59.6% with answers of 4: 2-3 times per month or lower\n",
      "\n",
      "\n",
      "FFQ32:  tacos/burritos/enchiladas/tamales, eat how often, past 12 months doesn't work.\n",
      " Min percentage is 51.5% with answers of 2: A few times per year or lower\n",
      "\n",
      "\n",
      "FFQ33:  beef steaks/roasts/pot roast (including in frozen dinners/sandwiches), eat how often, past 12 months doesn't work.\n",
      " Min percentage is 58.5% with answers of 4: 2-3 times per month or lower\n",
      "\n",
      "\n",
      "FFQ34:  pork (including chops/roasts)/dinner ham, eat how much, past 12 months\n",
      " With answers of 3: Once per month or lower\n",
      "SITE\n",
      "A    54.5%\n",
      "B    39.4%\n",
      "C    38.9%\n",
      "D    45.7%\n",
      "E    55.9%\n",
      "dtype: object\n",
      "\n",
      "\n",
      "FFQ35:  beef/pork, when eat do you... doesn't work.\n",
      " Min percentage is 59.1% with answers of 1: Avoid eating the fat or lower\n",
      "\n",
      "\n",
      "FFQ36:  mixed dishes with meat or chicken (e.g., stew/corned beef hash…or in frozen meals), eat how often, past 12 months\n",
      " With answers of 3: Once per month or lower\n",
      "SITE\n",
      "A    56.1%\n",
      "B    49.9%\n",
      "C    41.5%\n",
      "D    51.9%\n",
      "E    52.9%\n",
      "dtype: object\n",
      "\n",
      "\n",
      "FFQ37:  fried chicken, at home or in a restaurant, eat how often, past 12 months\n",
      " With answers of 2: A few times per year or lower\n",
      "SITE\n",
      "A    49.8%\n",
      "B    77.0%\n",
      "C    65.3%\n",
      "D    61.8%\n",
      "E    53.0%\n",
      "dtype: object\n",
      "\n",
      "\n",
      "FFQ38:  chicken/turkey not fried (e.g., baked/grilled/on sandwiches), eat how often, past 12 months doesn't work.\n",
      " Min percentage is 53.1% with answers of 5: Once per week or lower\n",
      "\n",
      "\n",
      "FFQ39:  chicken, when eat do you...\n",
      " With answers of 1: Avoid eating the skin or lower\n",
      "SITE\n",
      "A    41.3%\n",
      "B    56.1%\n",
      "C    52.9%\n",
      "D    56.0%\n",
      "E    39.6%\n",
      "dtype: object\n",
      "\n",
      "\n",
      "FFQ40:  fried fish/fish sandwich at home or in a restaurant, eat how often, past 12 months\n",
      " With answers of 2: A few times per year or lower\n",
      "SITE\n",
      "A    48.7%\n",
      "B    61.9%\n",
      "C    50.8%\n",
      "D    48.5%\n",
      "E    50.0%\n",
      "dtype: object\n",
      "\n",
      "\n",
      "FFQ41:  any other fish/shellfish not fried (including tuna), eat how often, past 12 months doesn't work.\n",
      " Min percentage is 50.8% with answers of 4: 2-3 times per month or lower\n",
      "\n",
      "\n",
      "FFQ42:  hot dogs/sausage (e.g., Polish/Italian/Chorizo), eat how often, past 12 months doesn't work.\n",
      " Min percentage is 62.9% with answers of 3: Once per month or lower\n",
      "\n",
      "\n",
      "FFQ43:  boloney (bologna)/sliced ham/turkey lunch meat/other lunch meat, eat how often, past 12 months doesn't work.\n",
      " Min percentage is 63.5% with answers of 4: 2-3 times per month or lower\n",
      "\n",
      "\n",
      "FFQ44:  lunch meats, when eat are they... doesn't work.\n",
      " Min percentage is 69.2% with answers of 2: Sometimes low-fat or lower\n",
      "\n",
      "\n",
      "FFQ45:  spaghetti/lasagna/other pasta with tomato sauce, eat how often, past 12 months doesn't work.\n",
      " Min percentage is 56.8% with answers of 4: 2-3 times per month or lower\n",
      "\n",
      "\n",
      "FFQ46:  cheese dishes without tomato sauce (e.g., macaroni and cheese), eat how often, past 12 months\n",
      " With answers of 2: A few times per year or lower\n",
      "SITE\n",
      "A    50.4%\n",
      "B    63.5%\n",
      "C    49.0%\n",
      "D    51.6%\n",
      "E    51.6%\n",
      "dtype: object\n",
      "\n",
      "\n",
      "FFQ47:  pizza (including carry-out), eat how often, past 12 months\n",
      " With answers of 3: Once per month or lower\n",
      "SITE\n",
      "A    69.7%\n",
      "B    56.4%\n",
      "C    48.4%\n",
      "D    58.6%\n",
      "E    66.9%\n",
      "dtype: object\n",
      "\n",
      "\n",
      "FFQ48:  biscuits/muffins, eat how often, past 12 months doesn't work.\n",
      " Min percentage is 55.2% with answers of 3: Once per month or lower\n",
      "\n",
      "\n",
      "FFQ49:  rolls/hamburger buns/english muffins/bagels, eat how often, past 12 months doesn't work.\n",
      " Min percentage is 51.2% with answers of 4: 2-3 times per month or lower\n",
      "\n",
      "\n",
      "FFQ50:  white bread/toast (including French/Italian or in sandwiches), eat how often, past 12 months doesn't work.\n",
      " Min percentage is 55.3% with answers of 4: 2-3 times per month or lower\n",
      "\n",
      "\n",
      "FFQ51:  dark bread (e.g., rye/whole wheat, including in sandwiches), eat how often, past 12 months doesn't work.\n",
      " Min percentage is 56.5% with answers of 6: Twice per week or lower\n",
      "\n",
      "\n",
      "FFQ52:  tortillas, eat how often, past 12 months\n",
      " With answers of 1: Never or lower\n",
      "SITE\n",
      "A    51.4%\n",
      "B    52.5%\n",
      "C    27.9%\n",
      "D    43.6%\n",
      "E    49.1%\n",
      "dtype: object\n",
      "\n",
      "\n",
      "FFQ53:  margarine on bread/potatoes/vegetables, eat how often, past 12 months\n",
      " With answers of 4: 2-3 times per month or lower\n",
      "SITE\n",
      "A    54.6%\n",
      "B    51.0%\n",
      "C    48.9%\n",
      "D    52.3%\n",
      "E    53.3%\n",
      "dtype: object\n",
      "\n",
      "\n",
      "FFQ54:  butter on bread/potatoes/vegetables, eat how often, past 12 months doesn't work.\n",
      " Min percentage is 53.1% with answers of 4: 2-3 times per month or lower\n",
      "\n",
      "\n",
      "FFQ55:  peanuts/peanut butter, eat how often, past 12 months\n",
      " With answers of 4: 2-3 times per month or lower\n",
      "SITE\n",
      "A    58.7%\n",
      "B    50.5%\n",
      "C    42.4%\n",
      "D    51.8%\n",
      "E    61.5%\n",
      "dtype: object\n",
      "\n",
      "\n",
      "FFQ56:  snacks (e.g., potato chips/corn chips/popcorn…not pretzels), eat how often, past 12 months doesn't work.\n",
      " Min percentage is 56.0% with answers of 4: 2-3 times per month or lower\n",
      "\n",
      "\n",
      "FFQ57:  doughnuts/cake/pastry/pie, eat how often, past 12 months doesn't work.\n",
      " Min percentage is 65.8% with answers of 4: 2-3 times per month or lower\n",
      "\n",
      "\n",
      "FFQ58:  cookies (not lowfat), eat how often, past 12 months doesn't work.\n",
      " Min percentage is 57.9% with answers of 4: 2-3 times per month or lower\n",
      "\n",
      "\n",
      "FFQ59:  ice cream/frozen yogurt/ice cream bars, eat how often, past 12 months doesn't work.\n",
      " Min percentage is 51.5% with answers of 4: 2-3 times per month or lower\n",
      "\n",
      "\n",
      "FFQ60:  ice cream/frozen yogurt, when eat is it... doesn't work.\n",
      " Min percentage is 53.3% with answers of 2: Sometimes low-fat or lower\n",
      "\n",
      "\n",
      "FFQ61:  chocolate candy/candy bars, eat how often, past 12 months doesn't work.\n",
      " Min percentage is 58.4% with answers of 4: 2-3 times per month or lower\n",
      "\n",
      "\n",
      "FFQ62:  real orange or grapefruit juice/Welch's grape juice/Minutemaid juices/Juicy Juice, drink how often, past 12 months doesn't work.\n",
      " Min percentage is 55.1% with answers of 6: Twice per week or lower\n",
      "\n",
      "\n",
      "FFQ63:  Hawaiian Punch/Sunny Delight/Hi-C/Tang/Ocean Spray juices, drink how often, past 12 months\n",
      " With answers of 1: Never or lower\n",
      "SITE\n",
      "A    47.9%\n",
      "B    54.7%\n",
      "C    50.0%\n",
      "D    55.9%\n",
      "E    44.1%\n",
      "dtype: object\n",
      "\n",
      "\n",
      "FFQ64:  Kool Aid/Capri Sun/Knudsen juices, drink how often, past 12 months doesn't work.\n",
      " Min percentage is 71.5% with answers of 1: Never or lower\n",
      "\n",
      "\n",
      "FFQ65:  instant breakfast milkshakes, diet shakes, or liquid supplements, drink how often, past 12 months doesn't work.\n",
      " Min percentage is 78.4% with answers of 1: Never or lower\n",
      "\n",
      "\n",
      "FFQ66:  glasses of milk (any kind), drink how often, past 12 months\n",
      " With answers of 4: 2-3 times per month or lower\n",
      "SITE\n",
      "A    51.7%\n",
      "B    41.7%\n",
      "C    41.0%\n",
      "D    40.5%\n",
      "E    47.9%\n",
      "dtype: object\n",
      "\n",
      "\n",
      "FFQ67:  glasses of milk, when drink what kind usually drink\n",
      " With answers of 3: Low-fat 1% milk or lower\n",
      "SITE\n",
      "A    48.4%\n",
      "B    54.1%\n",
      "C    50.3%\n",
      "D    47.0%\n",
      "E    51.5%\n",
      "dtype: object\n",
      "\n",
      "\n",
      "FFQ68:  cream/half and half/non-dairy creamer in coffee or tea, drink how often, past 12 months\n",
      " With answers of 1: Never or lower\n",
      "SITE\n",
      "A    36.7%\n",
      "B    39.3%\n",
      "C    52.0%\n",
      "D    41.0%\n",
      "E    34.3%\n",
      "dtype: object\n",
      "\n",
      "\n",
      "FFQ69:  regular soft drinks/bottled drinks like Snapple (not diet drinks), drink how often, past 12 months\n",
      " With answers of 2: A few times per year or lower\n",
      "SITE\n",
      "A    48.5%\n",
      "B    66.4%\n",
      "C    58.2%\n",
      "D    56.9%\n",
      "E    46.6%\n",
      "dtype: object\n",
      "\n",
      "\n",
      "FFQ70:  beer, drink how often, past 12 months doesn't work.\n",
      " Min percentage is 60.4% with answers of 2: A few times per year or lower\n",
      "\n",
      "\n",
      "FFQ71:  wine/wine coolers, drink how often, past 12 months\n",
      " With answers of 2: A few times per year or lower\n",
      "SITE\n",
      "A    58.3%\n",
      "B    42.3%\n",
      "C    49.3%\n",
      "D    49.6%\n",
      "E    61.9%\n",
      "dtype: object\n",
      "\n",
      "\n"
     ]
    }
   ],
   "source": [
    "# New version\n",
    "viable = []\n",
    "all_pcts = []\n",
    "cnts = {}\n",
    "for var in food_targets:\n",
    "    label = labels_df.at['V00'+var, 'Label'].split(':')[1]\n",
    "    tmp = check_useability(barcode_site_id_df, var, label)\n",
    "    if tmp is not None:\n",
    "        viable.append(var)\n",
    "        all_pcts.append(tmp[0])\n",
    "        cnts[var] = tmp[1]\n",
    "    print('\\n')\n",
    "\n",
    "# Collect all contenders into a single dataframe\n",
    "contenders = pd.DataFrame(all_pcts, index=viable)"
   ]
  },
  {
   "cell_type": "code",
   "execution_count": 10,
   "id": "111f1ed0-139a-4fac-850a-ec52856e8036",
   "metadata": {
    "execution": {
     "iopub.execute_input": "2023-11-30T16:45:10.898330Z",
     "iopub.status.busy": "2023-11-30T16:45:10.897960Z",
     "iopub.status.idle": "2023-11-30T16:45:10.901709Z",
     "shell.execute_reply": "2023-11-30T16:45:10.900935Z",
     "shell.execute_reply.started": "2023-11-30T16:45:10.898305Z"
    }
   },
   "outputs": [
    {
     "name": "stdout",
     "output_type": "stream",
     "text": [
      "['FFQ1', 'FFQ2', 'FFQ3', 'FFQ4', 'FFQ7', 'FFQ9', 'FFQ12', 'FFQ13', 'FFQ14', 'FFQ15', 'FFQ17', 'FFQ18', 'FFQ21', 'FFQ22', 'FFQ23', 'FFQ24', 'FFQ28', 'FFQ34', 'FFQ36', 'FFQ37', 'FFQ39', 'FFQ40', 'FFQ46', 'FFQ47', 'FFQ52', 'FFQ53', 'FFQ55', 'FFQ63', 'FFQ66', 'FFQ67', 'FFQ68', 'FFQ69', 'FFQ71']\n",
      "33\n"
     ]
    }
   ],
   "source": [
    "print(list(contenders.index))\n",
    "print(len(contenders))"
   ]
  },
  {
   "cell_type": "code",
   "execution_count": 18,
   "id": "21ce27de-b997-4cc4-9019-5c90a8c2d6f8",
   "metadata": {
    "execution": {
     "iopub.execute_input": "2023-11-30T16:51:03.593410Z",
     "iopub.status.busy": "2023-11-30T16:51:03.593001Z",
     "iopub.status.idle": "2023-11-30T16:51:05.276794Z",
     "shell.execute_reply": "2023-11-30T16:51:05.275476Z",
     "shell.execute_reply.started": "2023-11-30T16:51:03.593382Z"
    },
    "tags": []
   },
   "outputs": [
    {
     "name": "stdout",
     "output_type": "stream",
     "text": [
      "FFQ66\n",
      "33\n"
     ]
    }
   ],
   "source": [
    "# Go through all food questions and calculate the best possible AUCS for each question\n",
    "# best_aucs - a dataframe with the best AUC for each question, and the threshold\n",
    "\n",
    "questions = []\n",
    "aucs = {}\n",
    "max_aucs = []\n",
    "min_aucs = []\n",
    "answer = []\n",
    "for var in food_targets:\n",
    "    res = find_best_auc(barcode_site_id_df, var)\n",
    "    if res is not None:\n",
    "        questions.append(var)\n",
    "        max_aucs.append(res[0])\n",
    "        answer.append(res[1])\n",
    "        aucs[var] = res[2]\n",
    "        min_aucs.append(res[3])        \n",
    "        \n",
    "best_aucs = pd.DataFrame({'AUC': max_aucs, 'Freq':answer, 'min': min_aucs}, index=questions)\n",
    "print(len(best_aucs))  #Sanity check, this should match the count from before\n",
    "all_aucs = pd.DataFrame(aucs) # Has NA for any answer that won't work, most only have one answer with an AUC "
   ]
  },
  {
   "cell_type": "code",
   "execution_count": 11,
   "id": "306e3df4-77e1-403f-8e58-40d2ba827eac",
   "metadata": {
    "execution": {
     "iopub.execute_input": "2023-11-30T16:23:32.503386Z",
     "iopub.status.busy": "2023-11-30T16:23:32.503058Z",
     "iopub.status.idle": "2023-11-30T16:23:32.507876Z",
     "shell.execute_reply": "2023-11-30T16:23:32.507211Z",
     "shell.execute_reply.started": "2023-11-30T16:23:32.503361Z"
    },
    "tags": []
   },
   "outputs": [
    {
     "name": "stdout",
     "output_type": "stream",
     "text": [
      "FFQ53 0.5220867873397199\n"
     ]
    }
   ],
   "source": [
    "# Does anything have an AUC below 0.5 (meaning we can do well if we flip the positive case)\n",
    "# This was a hack, the frequency value may not be correct for this.\n",
    "print(all_aucs.T.sum(axis=1).idxmin(), all_aucs.T.sum(axis=1).min())"
   ]
  },
  {
   "cell_type": "code",
   "execution_count": 12,
   "id": "842da293-1e1a-40a4-b9da-8dbe7ed04adb",
   "metadata": {
    "execution": {
     "iopub.execute_input": "2023-11-30T16:23:32.509109Z",
     "iopub.status.busy": "2023-11-30T16:23:32.508694Z",
     "iopub.status.idle": "2023-11-30T16:23:32.517504Z",
     "shell.execute_reply": "2023-11-30T16:23:32.516598Z",
     "shell.execute_reply.started": "2023-11-30T16:23:32.509086Z"
    },
    "tags": []
   },
   "outputs": [
    {
     "data": {
      "text/plain": [
       "FFQ66    2\n",
       "dtype: int64"
      ]
     },
     "execution_count": 12,
     "metadata": {},
     "output_type": "execute_result"
    }
   ],
   "source": [
    "# How many have more than one cut-off frequency\n",
    "tmp = (~all_aucs.isna()).sum()\n",
    "tmp[tmp > 1]"
   ]
  },
  {
   "cell_type": "code",
   "execution_count": 13,
   "id": "389a56dd-6d2a-429e-b50b-430b0910dbb8",
   "metadata": {
    "execution": {
     "iopub.execute_input": "2023-11-30T16:23:32.524469Z",
     "iopub.status.busy": "2023-11-30T16:23:32.524135Z",
     "iopub.status.idle": "2023-11-30T16:23:32.532906Z",
     "shell.execute_reply": "2023-11-30T16:23:32.531868Z",
     "shell.execute_reply.started": "2023-11-30T16:23:32.524443Z"
    },
    "tags": []
   },
   "outputs": [
    {
     "data": {
      "text/plain": [
       "AUC                      0.56089\n",
       "Freq    1: Avoid eating the skin\n",
       "min                      0.56089\n",
       "Name: FFQ39, dtype: object"
      ]
     },
     "execution_count": 13,
     "metadata": {},
     "output_type": "execute_result"
    }
   ],
   "source": [
    "# Can we use eating fried chicken skin?\n",
    "best_aucs.loc['FFQ39']"
   ]
  },
  {
   "cell_type": "code",
   "execution_count": 14,
   "id": "739d86c7-1ee6-4079-a053-082869dfc808",
   "metadata": {
    "execution": {
     "iopub.execute_input": "2023-11-30T16:23:32.534764Z",
     "iopub.status.busy": "2023-11-30T16:23:32.534422Z",
     "iopub.status.idle": "2023-11-30T16:23:32.542409Z",
     "shell.execute_reply": "2023-11-30T16:23:32.541611Z",
     "shell.execute_reply.started": "2023-11-30T16:23:32.534739Z"
    },
    "tags": []
   },
   "outputs": [
    {
     "name": "stdout",
     "output_type": "stream",
     "text": [
      "0.631 FFQ18   refried beans 1: Never\n",
      "0.607 FFQ37   fried chicken 2: A few times per year\n",
      "0.609 FFQ52   tortillas 1: Never\n"
     ]
    }
   ],
   "source": [
    "# What has strong AUCs?\n",
    "for idx in best_aucs[best_aucs['AUC'] > 0.6].index:\n",
    "    label = labels_df.at['V00'+idx, 'Label'].split(':')[1]\n",
    "    if 'months' in label:\n",
    "        label = label.split(',')[0] # drop the ', past 12 months' \n",
    "    print('{:.3f} {}  {}'.format(best_aucs.loc[idx]['AUC'], idx, label), best_aucs.loc[idx]['Freq'])"
   ]
  },
  {
   "cell_type": "code",
   "execution_count": 20,
   "id": "f33594e5-a377-4cb2-989e-dae583c53896",
   "metadata": {
    "execution": {
     "iopub.execute_input": "2023-11-30T16:56:12.071460Z",
     "iopub.status.busy": "2023-11-30T16:56:12.071165Z",
     "iopub.status.idle": "2023-11-30T16:56:12.102221Z",
     "shell.execute_reply": "2023-11-30T16:56:12.101578Z",
     "shell.execute_reply.started": "2023-11-30T16:56:12.071438Z"
    },
    "tags": []
   },
   "outputs": [
    {
     "name": "stdout",
     "output_type": "stream",
     "text": [
      "FFQ18: Block Brief 2000: refried beans, eat how often, past 12 months\n",
      " With answers of 1: Never or lower\n",
      "SITE\n",
      "A    59.4%\n",
      "B    66.1%\n",
      "C    34.5%\n",
      "D    56.0%\n",
      "E    60.7%\n",
      "dtype: object\n"
     ]
    }
   ],
   "source": [
    "var = 'FFQ18'\n",
    "tmp = check_useability(barcode_site_id_df, var, labels_df.at['V00'+var, 'Label'])"
   ]
  },
  {
   "cell_type": "code",
   "execution_count": 21,
   "id": "20a38113-a11e-4fc6-baac-fd39260b1e04",
   "metadata": {
    "execution": {
     "iopub.execute_input": "2023-11-30T16:56:55.399698Z",
     "iopub.status.busy": "2023-11-30T16:56:55.399402Z",
     "iopub.status.idle": "2023-11-30T16:56:55.425732Z",
     "shell.execute_reply": "2023-11-30T16:56:55.425046Z",
     "shell.execute_reply.started": "2023-11-30T16:56:55.399676Z"
    },
    "tags": []
   },
   "outputs": [
    {
     "name": "stdout",
     "output_type": "stream",
     "text": [
      "FFQ37: Block Brief 2000: fried chicken, at home or in a restaurant, eat how often, past 12 months\n",
      " With answers of 2: A few times per year or lower\n",
      "SITE\n",
      "A    49.8%\n",
      "B    77.0%\n",
      "C    65.3%\n",
      "D    61.8%\n",
      "E    53.0%\n",
      "dtype: object\n"
     ]
    }
   ],
   "source": [
    "var = 'FFQ37'\n",
    "tmp = check_useability(barcode_site_id_df, var, labels_df.at['V00'+var, 'Label'])"
   ]
  },
  {
   "cell_type": "code",
   "execution_count": 22,
   "id": "813a4f77-a9d2-4a07-b9a2-a47d31e34c57",
   "metadata": {
    "execution": {
     "iopub.execute_input": "2023-11-30T16:57:15.099090Z",
     "iopub.status.busy": "2023-11-30T16:57:15.098240Z",
     "iopub.status.idle": "2023-11-30T16:57:15.125652Z",
     "shell.execute_reply": "2023-11-30T16:57:15.124736Z",
     "shell.execute_reply.started": "2023-11-30T16:57:15.099059Z"
    },
    "tags": []
   },
   "outputs": [
    {
     "name": "stdout",
     "output_type": "stream",
     "text": [
      "FFQ52: Block Brief 2000: tortillas, eat how often, past 12 months\n",
      " With answers of 1: Never or lower\n",
      "SITE\n",
      "A    51.4%\n",
      "B    52.5%\n",
      "C    27.9%\n",
      "D    43.6%\n",
      "E    49.1%\n",
      "dtype: object\n"
     ]
    }
   ],
   "source": [
    "var = 'FFQ52'\n",
    "tmp = check_useability(barcode_site_id_df, var, labels_df.at['V00'+var, 'Label'])"
   ]
  }
 ],
 "metadata": {
  "kernelspec": {
   "display_name": "Python 3 (ipykernel)",
   "language": "python",
   "name": "python3"
  },
  "language_info": {
   "codemirror_mode": {
    "name": "ipython",
    "version": 3
   },
   "file_extension": ".py",
   "mimetype": "text/x-python",
   "name": "python",
   "nbconvert_exporter": "python",
   "pygments_lexer": "ipython3",
   "version": "3.9.6"
  }
 },
 "nbformat": 4,
 "nbformat_minor": 5
}
